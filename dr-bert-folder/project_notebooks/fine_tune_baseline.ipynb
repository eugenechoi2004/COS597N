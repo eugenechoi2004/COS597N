{
 "cells": [
  {
   "cell_type": "markdown",
   "id": "ae1dbfb0",
   "metadata": {},
   "source": [
    "# COS597N Project Notebook"
   ]
  },
  {
   "cell_type": "code",
   "execution_count": 5,
   "id": "9dfe17c0",
   "metadata": {},
   "outputs": [
    {
     "name": "stderr",
     "output_type": "stream",
     "text": [
      "/home/byw2/.conda/envs/dr-bert-env/lib/python3.9/site-packages/tqdm/auto.py:21: TqdmWarning: IProgress not found. Please update jupyter and ipywidgets. See https://ipywidgets.readthedocs.io/en/stable/user_install.html\n",
      "  from .autonotebook import tqdm as notebook_tqdm\n"
     ]
    }
   ],
   "source": [
    "import pickle\n",
    "import os\n",
    "import torch\n",
    "import torch.nn as nn\n",
    "from transformers import RobertaTokenizerFast, Trainer, TrainingArguments\n",
    "from torch.utils.data import Dataset\n",
    "import pandas as pd\n",
    "import numpy as np\n",
    "from sklearn.metrics import accuracy_score, precision_recall_fscore_support, log_loss, accuracy_score, matthews_corrcoef\n",
    "from sklearn.utils import shuffle\n",
    "from matplotlib import pyplot as plt\n",
    "from sklearn.metrics import roc_auc_score\n",
    "import re\n",
    "import tqdm\n",
    "import torch.nn.functional as F\n",
    "from datetime import datetime\n",
    "from copy import deepcopy\n",
    "from scipy.special import softmax"
   ]
  },
  {
   "cell_type": "code",
   "execution_count": 6,
   "id": "d6f851d8",
   "metadata": {},
   "outputs": [],
   "source": [
    "df_train = pickle.load(open('../Datasets/train.pkl', \"rb\"))\n",
    "df_val = pickle.load(open('../Datasets/val.pkl', \"rb\"))\n",
    "df_test = pickle.load(open('../Datasets/caid.pkl', \"rb\"))"
   ]
  },
  {
   "cell_type": "code",
   "execution_count": 7,
   "id": "f2a5f054",
   "metadata": {},
   "outputs": [
    {
     "name": "stdout",
     "output_type": "stream",
     "text": [
      "Training Dataset: (1569, 4)\n",
      "Validation Dataset: (176, 4)\n",
      "Test Dataset: (652, 3)\n"
     ]
    }
   ],
   "source": [
    "print(f'Training Dataset: {df_train.shape}')\n",
    "print(f'Validation Dataset: {df_val.shape}')\n",
    "print(f'Test Dataset: {df_test.shape}')"
   ]
  },
  {
   "cell_type": "code",
   "execution_count": 8,
   "id": "c2d946ec",
   "metadata": {},
   "outputs": [
    {
     "data": {
      "text/plain": [
       "0.2720066750104297"
      ]
     },
     "execution_count": 8,
     "metadata": {},
     "output_type": "execute_result"
    }
   ],
   "source": [
    "652/(1569+176+652)"
   ]
  },
  {
   "cell_type": "code",
   "execution_count": 9,
   "id": "75199f1a",
   "metadata": {},
   "outputs": [
    {
     "data": {
      "text/plain": [
       "Index(['Sequence', 'full', 'disprot_ID', 'intersect'], dtype='object')"
      ]
     },
     "execution_count": 9,
     "metadata": {},
     "output_type": "execute_result"
    }
   ],
   "source": [
    "df_train.columns"
   ]
  },
  {
   "cell_type": "code",
   "execution_count": 10,
   "id": "08e7ee97",
   "metadata": {},
   "outputs": [
    {
     "data": {
      "text/html": [
       "<div>\n",
       "<style scoped>\n",
       "    .dataframe tbody tr th:only-of-type {\n",
       "        vertical-align: middle;\n",
       "    }\n",
       "\n",
       "    .dataframe tbody tr th {\n",
       "        vertical-align: top;\n",
       "    }\n",
       "\n",
       "    .dataframe thead th {\n",
       "        text-align: right;\n",
       "    }\n",
       "</style>\n",
       "<table border=\"1\" class=\"dataframe\">\n",
       "  <thead>\n",
       "    <tr style=\"text-align: right;\">\n",
       "      <th></th>\n",
       "      <th>Sequence</th>\n",
       "      <th>full</th>\n",
       "      <th>disprot_ID</th>\n",
       "      <th>intersect</th>\n",
       "    </tr>\n",
       "  </thead>\n",
       "  <tbody>\n",
       "    <tr>\n",
       "      <th>0</th>\n",
       "      <td>MELITNELLYKTYKQKPVGVEEPVYDQAGDPLFGERGAVHPQSTLK...</td>\n",
       "      <td>[0.0, 0.0, 0.0, 0.0, 0.0, 0.0, 0.0, 0.0, 0.0, ...</td>\n",
       "      <td>DP00675</td>\n",
       "      <td>False</td>\n",
       "    </tr>\n",
       "    <tr>\n",
       "      <th>5</th>\n",
       "      <td>MEDINFASLAPRHGSRPFMGNWQDIGTSNMSGGAFSWGSLWSGIKN...</td>\n",
       "      <td>[0.0, 0.0, 0.0, 0.0, 0.0, 0.0, 0.0, 0.0, 0.0, ...</td>\n",
       "      <td>DP00808</td>\n",
       "      <td>False</td>\n",
       "    </tr>\n",
       "    <tr>\n",
       "      <th>7</th>\n",
       "      <td>MAAKFEVGSVYTGKVTGLQAYGAFVALDEETQGLVHISEVTHGFVK...</td>\n",
       "      <td>[0.0, 0.0, 0.0, 0.0, 0.0, 0.0, 0.0, 0.0, 0.0, ...</td>\n",
       "      <td>DP00809</td>\n",
       "      <td>False</td>\n",
       "    </tr>\n",
       "    <tr>\n",
       "      <th>9</th>\n",
       "      <td>VVYTDCTESGQNLCLCEGSNVCGQGNKCILGSDGEKNQCVTGEGTP...</td>\n",
       "      <td>[0.0, 0.0, 0.0, 0.0, 0.0, 0.0, 0.0, 0.0, 0.0, ...</td>\n",
       "      <td>DP00137</td>\n",
       "      <td>False</td>\n",
       "    </tr>\n",
       "    <tr>\n",
       "      <th>11</th>\n",
       "      <td>MNYIPTQTFYGRRWRPRPAARPWPLQATPVAPVVPDFQAQQMQQLI...</td>\n",
       "      <td>[0.0, 0.0, 0.0, 0.0, 0.0, 0.0, 0.0, 0.0, 0.0, ...</td>\n",
       "      <td>DP00999</td>\n",
       "      <td>False</td>\n",
       "    </tr>\n",
       "  </tbody>\n",
       "</table>\n",
       "</div>"
      ],
      "text/plain": [
       "                                             Sequence  \\\n",
       "0   MELITNELLYKTYKQKPVGVEEPVYDQAGDPLFGERGAVHPQSTLK...   \n",
       "5   MEDINFASLAPRHGSRPFMGNWQDIGTSNMSGGAFSWGSLWSGIKN...   \n",
       "7   MAAKFEVGSVYTGKVTGLQAYGAFVALDEETQGLVHISEVTHGFVK...   \n",
       "9   VVYTDCTESGQNLCLCEGSNVCGQGNKCILGSDGEKNQCVTGEGTP...   \n",
       "11  MNYIPTQTFYGRRWRPRPAARPWPLQATPVAPVVPDFQAQQMQQLI...   \n",
       "\n",
       "                                                 full disprot_ID  intersect  \n",
       "0   [0.0, 0.0, 0.0, 0.0, 0.0, 0.0, 0.0, 0.0, 0.0, ...    DP00675      False  \n",
       "5   [0.0, 0.0, 0.0, 0.0, 0.0, 0.0, 0.0, 0.0, 0.0, ...    DP00808      False  \n",
       "7   [0.0, 0.0, 0.0, 0.0, 0.0, 0.0, 0.0, 0.0, 0.0, ...    DP00809      False  \n",
       "9   [0.0, 0.0, 0.0, 0.0, 0.0, 0.0, 0.0, 0.0, 0.0, ...    DP00137      False  \n",
       "11  [0.0, 0.0, 0.0, 0.0, 0.0, 0.0, 0.0, 0.0, 0.0, ...    DP00999      False  "
      ]
     },
     "execution_count": 10,
     "metadata": {},
     "output_type": "execute_result"
    }
   ],
   "source": [
    "df_train.head()"
   ]
  },
  {
   "cell_type": "code",
   "execution_count": 11,
   "id": "f015d49f",
   "metadata": {},
   "outputs": [
    {
     "data": {
      "text/html": [
       "<div>\n",
       "<style scoped>\n",
       "    .dataframe tbody tr th:only-of-type {\n",
       "        vertical-align: middle;\n",
       "    }\n",
       "\n",
       "    .dataframe tbody tr th {\n",
       "        vertical-align: top;\n",
       "    }\n",
       "\n",
       "    .dataframe thead th {\n",
       "        text-align: right;\n",
       "    }\n",
       "</style>\n",
       "<table border=\"1\" class=\"dataframe\">\n",
       "  <thead>\n",
       "    <tr style=\"text-align: right;\">\n",
       "      <th></th>\n",
       "      <th>Sequence</th>\n",
       "      <th>full</th>\n",
       "      <th>disprot_ID</th>\n",
       "      <th>intersect</th>\n",
       "    </tr>\n",
       "  </thead>\n",
       "  <tbody>\n",
       "    <tr>\n",
       "      <th>1823</th>\n",
       "      <td>MIPVTILCVLLCLNLAWAQDGKTTFEKEGGGGRGPRILENMHESSC...</td>\n",
       "      <td>[0.0, 0.0, 0.0, 0.0, 0.0, 0.0, 0.0, 0.0, 0.0, ...</td>\n",
       "      <td>DP00233</td>\n",
       "      <td>False</td>\n",
       "    </tr>\n",
       "    <tr>\n",
       "      <th>1283</th>\n",
       "      <td>MGNLESTDGGPGEPPSVPLLLPPGKTPMPEPCELEERFALVLSSMN...</td>\n",
       "      <td>[0.0, 0.0, 0.0, 0.0, 0.0, 0.0, 0.0, 0.0, 0.0, ...</td>\n",
       "      <td>DP02638</td>\n",
       "      <td>False</td>\n",
       "    </tr>\n",
       "    <tr>\n",
       "      <th>1868</th>\n",
       "      <td>MSGSVSGCGSGGCSIVWFRRDLRVEDNPALAAAVRAGPVIALFVWA...</td>\n",
       "      <td>[0.0, 1.0, 1.0, 1.0, 1.0, 1.0, 1.0, 1.0, 1.0, ...</td>\n",
       "      <td>DP00474</td>\n",
       "      <td>False</td>\n",
       "    </tr>\n",
       "    <tr>\n",
       "      <th>1416</th>\n",
       "      <td>MATVNQLVRKPRARKVAKSNVPALEACPQKRGVCTRVYTTTPKKPN...</td>\n",
       "      <td>[0.0, 1.0, 1.0, 1.0, 1.0, 1.0, 1.0, 1.0, 1.0, ...</td>\n",
       "      <td>DP00145</td>\n",
       "      <td>False</td>\n",
       "    </tr>\n",
       "    <tr>\n",
       "      <th>170</th>\n",
       "      <td>MAQWEMLQNLDSPFQDQLHQLYSHSLLPVDIRQYLAVWIEDQNWQE...</td>\n",
       "      <td>[0.0, 0.0, 0.0, 0.0, 0.0, 0.0, 0.0, 0.0, 0.0, ...</td>\n",
       "      <td>DP00961</td>\n",
       "      <td>False</td>\n",
       "    </tr>\n",
       "  </tbody>\n",
       "</table>\n",
       "</div>"
      ],
      "text/plain": [
       "                                               Sequence  \\\n",
       "1823  MIPVTILCVLLCLNLAWAQDGKTTFEKEGGGGRGPRILENMHESSC...   \n",
       "1283  MGNLESTDGGPGEPPSVPLLLPPGKTPMPEPCELEERFALVLSSMN...   \n",
       "1868  MSGSVSGCGSGGCSIVWFRRDLRVEDNPALAAAVRAGPVIALFVWA...   \n",
       "1416  MATVNQLVRKPRARKVAKSNVPALEACPQKRGVCTRVYTTTPKKPN...   \n",
       "170   MAQWEMLQNLDSPFQDQLHQLYSHSLLPVDIRQYLAVWIEDQNWQE...   \n",
       "\n",
       "                                                   full disprot_ID  intersect  \n",
       "1823  [0.0, 0.0, 0.0, 0.0, 0.0, 0.0, 0.0, 0.0, 0.0, ...    DP00233      False  \n",
       "1283  [0.0, 0.0, 0.0, 0.0, 0.0, 0.0, 0.0, 0.0, 0.0, ...    DP02638      False  \n",
       "1868  [0.0, 1.0, 1.0, 1.0, 1.0, 1.0, 1.0, 1.0, 1.0, ...    DP00474      False  \n",
       "1416  [0.0, 1.0, 1.0, 1.0, 1.0, 1.0, 1.0, 1.0, 1.0, ...    DP00145      False  \n",
       "170   [0.0, 0.0, 0.0, 0.0, 0.0, 0.0, 0.0, 0.0, 0.0, ...    DP00961      False  "
      ]
     },
     "execution_count": 11,
     "metadata": {},
     "output_type": "execute_result"
    }
   ],
   "source": [
    "df_val.head()"
   ]
  },
  {
   "cell_type": "code",
   "execution_count": 12,
   "id": "0a37aa6b",
   "metadata": {},
   "outputs": [
    {
     "data": {
      "text/html": [
       "<div>\n",
       "<style scoped>\n",
       "    .dataframe tbody tr th:only-of-type {\n",
       "        vertical-align: middle;\n",
       "    }\n",
       "\n",
       "    .dataframe tbody tr th {\n",
       "        vertical-align: top;\n",
       "    }\n",
       "\n",
       "    .dataframe thead th {\n",
       "        text-align: right;\n",
       "    }\n",
       "</style>\n",
       "<table border=\"1\" class=\"dataframe\">\n",
       "  <thead>\n",
       "    <tr style=\"text-align: right;\">\n",
       "      <th></th>\n",
       "      <th>ID</th>\n",
       "      <th>Sequence</th>\n",
       "      <th>full</th>\n",
       "    </tr>\n",
       "  </thead>\n",
       "  <tbody>\n",
       "    <tr>\n",
       "      <th>0</th>\n",
       "      <td>DP00084</td>\n",
       "      <td>MSDNDDIEVESDEEQPRFQSAADKRAHHNALERKRRDHIKDSFHSL...</td>\n",
       "      <td>[0, 0, 0, 0, 0, 0, 0, 0, 0, 0, 0, 0, 0, 0, 0, ...</td>\n",
       "    </tr>\n",
       "    <tr>\n",
       "      <th>1</th>\n",
       "      <td>DP00182</td>\n",
       "      <td>MAPTKRKGSCPGAAPKKPKEPVQVPKLVIKGGIEVLGVKTGVDSFT...</td>\n",
       "      <td>[1, 1, 1, 1, 1, 1, 1, 1, 1, 1, 1, 1, 1, 1, 1, ...</td>\n",
       "    </tr>\n",
       "    <tr>\n",
       "      <th>2</th>\n",
       "      <td>DP00206</td>\n",
       "      <td>MKAAQKGFTLIELMIVVAIIGILAAIAIPAYQDYTARAQLSERMTL...</td>\n",
       "      <td>[0, 0, 0, 0, 0, 0, 0, 0, 0, 0, 0, 0, 0, 0, 0, ...</td>\n",
       "    </tr>\n",
       "    <tr>\n",
       "      <th>3</th>\n",
       "      <td>DP00334</td>\n",
       "      <td>MCNTNMSVPTDGAVTTSQIPASEQETLVRPKPLLLKLLKSVGAQKD...</td>\n",
       "      <td>[0, 0, 0, 0, 0, 0, 0, 0, 0, 0, 0, 0, 0, 0, 0, ...</td>\n",
       "    </tr>\n",
       "    <tr>\n",
       "      <th>4</th>\n",
       "      <td>DP00359</td>\n",
       "      <td>MMLTKSVVISRPAVRPVSTRRAVVVRASGQPAVDLNKKVQDAVKEA...</td>\n",
       "      <td>[0, 0, 0, 0, 0, 0, 0, 0, 0, 0, 0, 0, 0, 0, 0, ...</td>\n",
       "    </tr>\n",
       "  </tbody>\n",
       "</table>\n",
       "</div>"
      ],
      "text/plain": [
       "        ID                                           Sequence  \\\n",
       "0  DP00084  MSDNDDIEVESDEEQPRFQSAADKRAHHNALERKRRDHIKDSFHSL...   \n",
       "1  DP00182  MAPTKRKGSCPGAAPKKPKEPVQVPKLVIKGGIEVLGVKTGVDSFT...   \n",
       "2  DP00206  MKAAQKGFTLIELMIVVAIIGILAAIAIPAYQDYTARAQLSERMTL...   \n",
       "3  DP00334  MCNTNMSVPTDGAVTTSQIPASEQETLVRPKPLLLKLLKSVGAQKD...   \n",
       "4  DP00359  MMLTKSVVISRPAVRPVSTRRAVVVRASGQPAVDLNKKVQDAVKEA...   \n",
       "\n",
       "                                                full  \n",
       "0  [0, 0, 0, 0, 0, 0, 0, 0, 0, 0, 0, 0, 0, 0, 0, ...  \n",
       "1  [1, 1, 1, 1, 1, 1, 1, 1, 1, 1, 1, 1, 1, 1, 1, ...  \n",
       "2  [0, 0, 0, 0, 0, 0, 0, 0, 0, 0, 0, 0, 0, 0, 0, ...  \n",
       "3  [0, 0, 0, 0, 0, 0, 0, 0, 0, 0, 0, 0, 0, 0, 0, ...  \n",
       "4  [0, 0, 0, 0, 0, 0, 0, 0, 0, 0, 0, 0, 0, 0, 0, ...  "
      ]
     },
     "execution_count": 12,
     "metadata": {},
     "output_type": "execute_result"
    }
   ],
   "source": [
    "df_test.head()"
   ]
  },
  {
   "cell_type": "code",
   "execution_count": 13,
   "id": "ee6cfef1",
   "metadata": {},
   "outputs": [],
   "source": [
    "df_full = pd.concat([df_train, df_val, df_test])"
   ]
  },
  {
   "cell_type": "code",
   "execution_count": 14,
   "id": "56c8404c",
   "metadata": {},
   "outputs": [
    {
     "data": {
      "text/plain": [
       "'MELITNELLYKTYKQKPVGVEEPVYDQAGDPLFGERGAVHPQSTLKLPHKRGERDVPTNLASLPKRGDCRSGNSRGPVSGIYLKPGPLFYQDYKGPVYHRAPLELFEEGSMCETTKRIGRVTGSDGKLYHIYVCIDGCIIIKSATRSYQRVFRWVHNRLDCPLWVTTCSDTKEEGATKKKTQKPDRLERGKMKIVPKESEKDSKTKPPDATIVVEGVKYQVRKKGKTKSKNTQDGLYHNKNKPQESRKKLEKALLAWAIIAIVLFQVTMGENITQWNLQDNGTEGIQRAMFQRGVNRSLHGIWPEKICTGVPSHLATDIELKTIHGMMDASEKTNYTCCRLQRHEWNKHGWCNWYNIEPWILVMNRTQANLTEGQPPRECAVTCRYDRASDLNVVTQARDSPTPLTGCKKGKNFSFAGILMRGPCNFEIAASDVLFKEHERISMFQDTTLYLVDGLTNSLEGARQGTAKLTTWLGKQLGILGKKLENKSKTWFGAYAASPYCDVDRKIGYIWYTKNCTPACLPKNTKIVGPGKFGTNAEDGKILHEMGGHLSEVLLLSLVVLSDFAPETASVMYLILHFSIPQSHVDVMDCDKTQLNLTVELTTAEVIPGSVWNLGKYVCIRPNWWPYETTVVLAFEEVSQVVKLVLRALRDLTRIWNAATTTAFLVCLVKIVRGQMVQGILWLLLITGVQGHLDCKPEFSYAIAKDERIGQLGAEGLTTTWKEYSPGMKLEDTMVIAWCEDGKLMYLQRCTRETRYLAILHTRALPTSVVFKKLFDGRKQEDVVEMNDNFEFGLCPCDAKPIVRGKFNTTLLNGPAFQMVCPIGWTGTVSCTSFNMDTLATTVVRTYRRSKPFPHRQGCITQKNLGEDLHNCILGGNWTCVPGDQLLYKGGSIESCKWCGYQFKESEGLPHYPIGKCKLENETGYRLVDSTSCNREGVAIVPQGTLKCKIGKTTVQVIAMDTKLGPMPCRPYEIISSEGPVEKTACTFNYTKTLKNKYFEPRDSYFQQYMLKGEYQYWFDLEVTDHHRDYFAESILVVVVALLGGRYVLWLLVTYMVLSEQKALGIQYGSGEVVMMGNLLTHNNIEVVTYFLLLYLLLREESVKKWVLLLYHILVVHPIKSVIVILLMIGDVVKADSGGQEYLGKIDLCFTTVVLIVIGLIIARRDPTIVPLVTIMAALRVTELTHQPGVDIAVAVMTITLLMVSYVTDYFRYKKWLQCILSLVSAVFLIRSLIYLGRIEMPEVTIPNWRPLTLILLYLISTTIVTRWKVDVAGLLLQCVPILLLVTTLWADFLTLILILPTYELVKLYYLKTVRTDTERSWLGGIDYTRVDSIYDVDESGEGVYLFPSRQKAQGNFSILLPLIKATLISCVSSKWQLIYMSYLTLDFMYYMHRKVIEEISGGTNIISRLVAALIELNWSMEEEESKGLKKFYLLSGRLRNLIIKHKVRNETVASWYGEEEVYGMPKIMTIIKASTLSKSRHCIICTVCEGREWKGGTCPKCGRHGKPITCGMSLADFEERHYKRIFIREGNFEGMCSRCQGKHRRFEMDREPKSARYCAECNRLHPAEEGDFWAESSMLGLKITYFALMDGKVYDITEWAGCQRVGISPDTHRVPCHISFGSRMPFRQEYNGFVQYTARGQLFLRNLPVLATKVKMLMVGNLGEEIGNLEHLGWILRGPAVCKKITEHEKCHINILDKLTAFFGIMPRGTTPRAPVRFPTSLLKVRRGLETAWAYTHQGGISSVDHVTAGKDLLVCDSMGRTRVVCQSNNRLTDETEYGVKTDSGCPDGARCYVLNPEAVNISGSKGAVVHLQKTGGEFTCVTASGTPAFFDLKNLKGWSGLPIFEASSGRVVGRVKVGKNEESKPTKIMSGIQTVSKNRADLTEMVKKITSMNRGDFKQITLATGAGKTTELPKAVIEEIGRHKRVLVLIPLRAAAESVYQYMRLKHPSISFNLRIGDMKEGDMATGITYASYGYFCQMPQPKLRAAMVEYSYIFLDEYHCATPEQLAIIGKIHRFSESIRVVAMTATPAGSVTTTGQKHPIEEFIAPEVMKGEDLGSQFLDIAGLKIPVDEMKGNMLVFVPTRNMAVEVAKKLKAKGYNSGYYYSGEDPANLRVVTSQSPYVIVATNAIESGVTLPDLDTVIDTGLKCEKRVRVSSKIPFIVTGLKRMAVTVGEQAQRRGRVGRVKPGRYYRSQETATGSKDYHYDLLQAQRYGIEDGINVTKSFREMNYDWSLYEEDSLLITQLEILNNLLISEDLPAAVKNIMARTDHPEPIQLAYNSYEVQVPVLFPKIRNGEVTDTYENYSFLNARKLGEDVPVYIYATEDEDLAVDLLGLDWPDPGNQQVVETGKALKQVTGLSSAENALLVALFGYVGYQALSKRHVPMITDIYTIEDQRLEDTTHLQYAPNAIKTDGTETELKELASGDVEKIMGAISDYAAGGLEFVKSQAEKIKTAPLFKENAEAAKGYVQKFIDSLIENKEEIIRYGLWGTHTALYKSIAARLGHETAFATLVLKWLAFGGESVSDHVKQAAVDLVVYYVMNKPSFPGDSETQQEGRRFVASLFISALATYTYKTWNYHNLSKVVEPALAYLPYATSALKMFTPTRLESVVILSTTIYKTYLSIRKGKSDGLLGTGISAAMEILSQNPVSVGISVMLGVGAIAAHNAIESSEQKRTLLMKVFVKNFLDQAATDELVKENPEKIIMALFEAVQTIGNPLRLIYHLYGVYYKGWEAKELSERTAGRNLFTLIMFEAFELLGMDSQGKIRNLSGNYILDLIYGLHKQINRGLKKMVLGWAPAPFSCDWTPSDERIRLPTDNYLRVETRCPCGYEMKAFKNVGGKLTKVEESGPFLCRNRPGRGPVNYRVTKYYDDNLREIKPVAKLEGQVEHYYKGVTAKIDYSKGKMLLATDKWEVEHGVITRLAKRYTGVGFNGAYLGDEPNHRALVERDCATITKNTVQFLKMKKGCAFTYDLTISNLTRLIELVHRNNLEEKEIPTATVTTWLAYTFVNEDVGTIKPVLGERVIPDPVVDINLQPEVQVDTSEVGITIIGRETLMTTGVTPVLEKVEPDASDNQNSVKIGLDEGNYPGPGIQTHTLTEEIHNRDARPFIMILGSRNSISNRAKTARNINLYTGNDPREIRDLMAAGRMLVVALRDVDPELSEMVDFKGTFLDREALEALSLGQPKPKQVTKEAVRNLIEQKKDVEIPNWFASDDPVFLEVALKNDKYYLVGDVGELKDQAKALGATDQTRIIKEVGSRTYAMKLSSWFLKASNKQMSLTPLFEELLLRCPPATKSNKGHMASAYQLAQGNWEPLGCGVHLGTIPARRVKIHPYEAYLKLKDFIEEEEKKPRVKDTVIREHNKWILKKIRFQGNLNTKKMLNPGKLSEQLDREGRKRNIYNHQIGTIMSSAGIRLEKLPIVRAQTDTKTFHEAIRDKIDKSENRQNPELHNKLLEIFHTIAQPTLKHTYGEVTWEQLEAGVNRKGAAGFLEKKNIGEVLDSEKHLVEQLVRDLKAGRKIKYYETAIPKNEKRDVSDDWQAGDLVVEKRPRVIQYPEAKTRLAITKVMYNWVKQQPVVIPGYEGKTPLFNIFDKVRKEWDSFNEPVAVSFDTKAWDTQVTSKDLQLIGEIQKYYYKKEWHKFIDTITDHMTEVPVITADGEVYIRNGQRGSGQPDTSAGNSMLNVLTMMYGFCESTGVPYKSFNRVARIHVCGDDGFLITEKGLGLKFANKGMQILHEAGKPQKITEGEKMKVAYRFEDIEFCSHTPVPVRWSDNTSSHMAGRDTAVILSKMATRLDSSGERGTTAYEKAVAFSFLLMYSWNPLVRRICLLVLSQQPETDPSKHATYYYKGDPIGAYKDVIGRNLSELKRTGFEKLANLNLSLSTLGVWTKHTSKRIIQDCVAIGKEEGNWLVKPDRLISSKTGHLYIPDKGFTLQGKHYEQLQLRTETNPVMGVGTERYKLGPIVNLLLRRLKILLMTAVGVSS'"
      ]
     },
     "execution_count": 14,
     "metadata": {},
     "output_type": "execute_result"
    }
   ],
   "source": [
    "df_full.iloc[0]['Sequence']"
   ]
  },
  {
   "cell_type": "code",
   "execution_count": 15,
   "id": "032e181e",
   "metadata": {},
   "outputs": [
    {
     "data": {
      "text/plain": [
       "count     2397.000000\n",
       "mean       549.033792\n",
       "std        884.678317\n",
       "min         19.000000\n",
       "25%        204.000000\n",
       "50%        392.000000\n",
       "75%        651.000000\n",
       "max      34350.000000\n",
       "dtype: float64"
      ]
     },
     "execution_count": 15,
     "metadata": {},
     "output_type": "execute_result"
    }
   ],
   "source": [
    "protein_lens = pd.Series([len(seq) for seq in df_full['Sequence']])\n",
    "protein_lens.describe()"
   ]
  },
  {
   "cell_type": "markdown",
   "id": "92c2280b",
   "metadata": {},
   "source": [
    "Great, we can verify that none of the training and validation examples overlap with the test example."
   ]
  },
  {
   "cell_type": "code",
   "execution_count": 16,
   "id": "0a3c2ff7",
   "metadata": {},
   "outputs": [],
   "source": [
    "MAX_LENGTH = 1024\n",
    "# EPOCHS = 10\n",
    "EPOCHS = 1\n",
    "LEARNING_RATE = 2e-6\n",
    "BATCH_SIZE = 1\n",
    "TOKENIZER_PATH =  \"../checkpoint-final/\"\n",
    "# is this pretrained on protein sequences?\n",
    "PRETRAINED_MODEL = \"../checkpoint-final/\"\n",
    "NUM_CLASSES = 2\n",
    "SCHEDULER='cosine_with_restarts'"
   ]
  },
  {
   "cell_type": "code",
   "execution_count": 17,
   "id": "c63e9310",
   "metadata": {},
   "outputs": [],
   "source": [
    "class ProteinDegreeDataset(Dataset):\n",
    "\n",
    "    def __init__(self, max_length, df, tokenizer, region_type):\n",
    "        self.region_type = region_type # e.g. 'full'\n",
    "        self.df = df\n",
    "        self.seqs, self.labels = self.load_dataset()\n",
    "        self.tokenizer = tokenizer\n",
    "        self.max_length = max_length\n",
    "\n",
    "    def load_dataset(self):\n",
    "        seq = list(self.df['Sequence']) # list of protein sequences\n",
    "        label = list(self.df[self.region_type]) # list of list of labels\n",
    "        return seq, label\n",
    "\n",
    "    def __len__(self):\n",
    "        return len(self.labels)\n",
    "\n",
    "    def __getitem__(self, idx):\n",
    "        if torch.is_tensor(idx):\n",
    "            idx = idx.tolist()\n",
    "\n",
    "        seq = \" \".join(\"\".join(self.seqs[idx].split()))\n",
    "        seq = re.sub(r\"[UZOB]\", \"X\", seq)\n",
    "\n",
    "        seq_ids = self.tokenizer(seq, truncation=True, padding='max_length', max_length=self.max_length)\n",
    "        sample = {key: torch.tensor(val) for key, val in seq_ids.items()}\n",
    "        tens = torch.tensor(self.labels[idx], dtype=torch.long)\n",
    "        sample['labels'] = F.pad(tens, (0, MAX_LENGTH - len(tens)))\n",
    "        return sample"
   ]
  },
  {
   "cell_type": "code",
   "execution_count": 18,
   "id": "dc73e76c",
   "metadata": {},
   "outputs": [
    {
     "name": "stderr",
     "output_type": "stream",
     "text": [
      "Special tokens have been added in the vocabulary, make sure the associated word embeddings are fine-tuned or trained.\n",
      "Special tokens have been added in the vocabulary, make sure the associated word embeddings are fine-tuned or trained.\n"
     ]
    }
   ],
   "source": [
    "tokenizer = RobertaTokenizerFast.from_pretrained(TOKENIZER_PATH, do_lower_case=False)"
   ]
  },
  {
   "cell_type": "code",
   "execution_count": 19,
   "id": "a357d78f",
   "metadata": {},
   "outputs": [],
   "source": [
    "train_dataset = ProteinDegreeDataset(MAX_LENGTH, df_train, tokenizer, 'full')\n",
    "# train_dataset = ProteinDegreeDataset(MAX_LENGTH, df_train., tokenizer, 'full')\n",
    "val_dataset = ProteinDegreeDataset(MAX_LENGTH, df_val, tokenizer, 'full')\n",
    "# val_dataset = ProteinDegreeDataset(MAX_LENGTH, df_val, tokenizer, 'full')"
   ]
  },
  {
   "cell_type": "code",
   "execution_count": 140,
   "id": "f90620b7",
   "metadata": {},
   "outputs": [
    {
     "data": {
      "text/plain": [
       "176"
      ]
     },
     "execution_count": 140,
     "metadata": {},
     "output_type": "execute_result"
    }
   ],
   "source": [
    "len(val_dataset)"
   ]
  },
  {
   "cell_type": "code",
   "execution_count": null,
   "id": "e6d758e7",
   "metadata": {},
   "outputs": [],
   "source": []
  },
  {
   "cell_type": "code",
   "execution_count": 141,
   "id": "72bc7a4b",
   "metadata": {
    "scrolled": true
   },
   "outputs": [
    {
     "data": {
      "text/plain": [
       "{'input_ids': tensor([ 4, 21,  9,  ..., 14,  5,  0]),\n",
       " 'attention_mask': tensor([1, 1, 1,  ..., 1, 1, 1]),\n",
       " 'labels': tensor([0, 0, 0,  ..., 0, 0, 0])}"
      ]
     },
     "execution_count": 141,
     "metadata": {},
     "output_type": "execute_result"
    }
   ],
   "source": [
    "train_dataset[0]"
   ]
  },
  {
   "cell_type": "code",
   "execution_count": 142,
   "id": "191c7ee0",
   "metadata": {},
   "outputs": [
    {
     "data": {
      "text/plain": [
       "5     93\n",
       "15    83\n",
       "12    83\n",
       "7     82\n",
       "8     67\n",
       "9     63\n",
       "16    53\n",
       "11    52\n",
       "13    51\n",
       "6     48\n",
       "10    47\n",
       "14    45\n",
       "17    41\n",
       "18    40\n",
       "20    39\n",
       "23    37\n",
       "19    31\n",
       "21    23\n",
       "24    23\n",
       "22    21\n",
       "4      1\n",
       "0      1\n",
       "dtype: int64"
      ]
     },
     "execution_count": 142,
     "metadata": {},
     "output_type": "execute_result"
    }
   ],
   "source": [
    "pd.Series(train_dataset[0]['input_ids']).value_counts()"
   ]
  },
  {
   "cell_type": "markdown",
   "id": "f588e157",
   "metadata": {},
   "source": [
    "There are 25 tokens in the vocabulary (20 amino acids and [\"unk_token\": \"[UNK]\", \"sep_token\": \"[SEP]\", \"pad_token\": \"[PAD]\", \"cls_token\": \"[CLS]\", \"mask_token\": \"[MASK]\"])."
   ]
  },
  {
   "cell_type": "code",
   "execution_count": 143,
   "id": "6ff99a38",
   "metadata": {},
   "outputs": [
    {
     "data": {
      "text/plain": [
       "1    1024\n",
       "dtype: int64"
      ]
     },
     "execution_count": 143,
     "metadata": {},
     "output_type": "execute_result"
    }
   ],
   "source": [
    "pd.Series(train_dataset[0]['attention_mask']).value_counts()"
   ]
  },
  {
   "cell_type": "markdown",
   "id": "f8c93618",
   "metadata": {},
   "source": [
    "All tokens should be attended to."
   ]
  },
  {
   "cell_type": "code",
   "execution_count": 144,
   "id": "bf275330",
   "metadata": {},
   "outputs": [
    {
     "name": "stdout",
     "output_type": "stream",
     "text": [
      "1024 1024 1024\n"
     ]
    }
   ],
   "source": [
    "print(len(train_dataset[0]['attention_mask']), len(train_dataset[0]['input_ids']), len(train_dataset[0]['labels']))"
   ]
  },
  {
   "cell_type": "markdown",
   "id": "31f0f540",
   "metadata": {},
   "source": [
    "Finally, note that all training points are truncated to be 1024 amino acids for training."
   ]
  },
  {
   "cell_type": "code",
   "execution_count": 152,
   "id": "644b277e",
   "metadata": {},
   "outputs": [],
   "source": [
    "def precision_recall_f1_roc_convolve(name, logits, labels, convolution):\n",
    "    convolved = np.convolve(np.array(logits).flatten(), np.array(convolution / np.sum(convolution)).flatten(), 'same')\n",
    "    p = [(1 - i, i) for i in convolved]\n",
    "    roc = [i[1] for i in p]\n",
    "    roc2 = [i[0] for i in p]\n",
    "    p = np.argmax(p, axis=-1)\n",
    "    precision, recall, f1, support = precision_recall_fscore_support(labels, p)\n",
    "    roc_auc = roc_auc_score(labels, roc)\n",
    "    mcc = matthews_corrcoef(labels, p)\n",
    "    return {\n",
    "        f'precision_{name}':precision[1],\n",
    "        f'recall_{name}':recall[1],\n",
    "        f'f1_{name}':f1[1],\n",
    "        f'roc_auc_{name}':roc_auc,\n",
    "        f'mcc_{name}': mcc,\n",
    "    }\n",
    "\n",
    "def compute_metrics(eval_preds):\n",
    "    logits, labels = eval_preds\n",
    "    # creates probabilities\n",
    "    logits = softmax(logits, axis=2)\n",
    "    l = []\n",
    "    # concatenates all true labels for sequence into list\n",
    "    for j, i in enumerate(labels):\n",
    "        l = l + list(i[:len(df_val['Sequence'].iloc[j])])\n",
    "    # concatenates all prob that were predicted to be disordered into list\n",
    "    lg2 = []\n",
    "    for k, i in enumerate(logits):\n",
    "        lg2 = lg2 + [j[1] for j in i[:len(df_val['Sequence'].iloc[k])]]\n",
    "    print(np.array(lg2).shape)\n",
    "    # l is list of all concatenated true labels\n",
    "    # lg2 is list of all concatenated probabilities that corresponding residue in l is equal to 1  \n",
    "    metrics = {}\n",
    "    metrics.update(precision_recall_f1_roc_convolve('normal', lg2, l, [1]))\n",
    "#     metrics.update(precision_recall_f1_roc_convolve('wa5', lg2, l, [1,1,1,1,1]))\n",
    "#     metrics.update(precision_recall_f1_roc_convolve('wa9', lg2, l, [1,1,1,1,1,1,1]))\n",
    "#     metrics.update(precision_recall_f1_roc_convolve('wa15', lg2, l, [1]*15))\n",
    "#     metrics.update(precision_recall_f1_roc_convolve('linear5', lg2, l, [1,2,3,2,1]))\n",
    "#     metrics.update(precision_recall_f1_roc_convolve('linear9', lg2, l, [1,2,3,4,5,4,3,2,1]))\n",
    "#     metrics.update(precision_recall_f1_roc_convolve('linear15', lg2, l, [1,2,3,4,5,6,7,8,7,6,5,4,3,2,1]))\n",
    "#     metrics.update(precision_recall_f1_roc_convolve('quad5', lg2, l, [1,3,9,3,1]))\n",
    "#     metrics.update(precision_recall_f1_roc_convolve('quad9', lg2, l, [1,3,9,27,81,27,9,3,1]))\n",
    "#     metrics.update(precision_recall_f1_roc_convolve('quad15', lg2, l, [1,3,9,27,81,243,729,2187,729,243,81,27,9,3,1]))\n",
    "    \n",
    "    logits_path = OUTPUT_DIR + '/Logits/'\n",
    "    if not os.path.isdir(logits_path):\n",
    "        os.mkdir(logits_path)\n",
    "    new_df = deepcopy(df_val)\n",
    "    new_df['Logits'] = [[i[1] for i in x] for x in list(logits)]\n",
    "    pickle.dump(new_df, open(logits_path + datetime.now().strftime(\"%H:%M:%S\"), 'wb'))\n",
    "    return metrics"
   ]
  },
  {
   "cell_type": "code",
   "execution_count": 162,
   "id": "18c27a4a",
   "metadata": {},
   "outputs": [
    {
     "name": "stdout",
     "output_type": "stream",
     "text": [
      "[0.15 0.25 0.35 0.7  0.5 ]\n"
     ]
    }
   ],
   "source": [
    "a = [0, 0, 1, 1, 0]\n",
    "b = [0.3, 0.2, 0.5, 0.9, 0.1]\n",
    "tmp = np.convolve(np.array(b).flatten(), np.array([1, 1] / np.sum([1, 1])).flatten(), 'same')\n",
    "print(tmp)"
   ]
  },
  {
   "cell_type": "code",
   "execution_count": 154,
   "id": "727848a2",
   "metadata": {},
   "outputs": [],
   "source": [
    "OUTPUT_DIR = f'../Outputs'"
   ]
  },
  {
   "cell_type": "code",
   "execution_count": 155,
   "id": "508d9761",
   "metadata": {},
   "outputs": [],
   "source": [
    "training_args = TrainingArguments(\n",
    "    output_dir = OUTPUT_DIR + '/Checkpoints',\n",
    "    num_train_epochs = EPOCHS, # 10 epochs\n",
    "    per_device_train_batch_size = 1,\n",
    "    per_device_eval_batch_size = 16,\n",
    "    warmup_steps = 1000,\n",
    "    learning_rate = LEARNING_RATE, # 2e-06\n",
    "    logging_dir = OUTPUT_DIR + '/Logs',\n",
    "    logging_steps = 200,\n",
    "    lr_scheduler_type=SCHEDULER, # cosine with restarts\n",
    "    do_train = True,\n",
    "    do_eval = True,\n",
    "    evaluation_strategy = 'epoch', # evaluate at every epoch\n",
    "    gradient_accumulation_steps = BATCH_SIZE,\n",
    "#     fp16 = True,\n",
    "#     fp16_opt_level = '02',\n",
    "    save_strategy = 'epoch',\n",
    "    load_best_model_at_end = True\n",
    ")"
   ]
  },
  {
   "cell_type": "code",
   "execution_count": 156,
   "id": "b4a81a69",
   "metadata": {},
   "outputs": [],
   "source": [
    "from transformers import AutoModelForTokenClassification\n",
    "def model_init():\n",
    "    model = AutoModelForTokenClassification.from_pretrained(PRETRAINED_MODEL, num_labels=NUM_CLASSES)\n",
    "    return model"
   ]
  },
  {
   "cell_type": "code",
   "execution_count": 157,
   "id": "907bedf9",
   "metadata": {},
   "outputs": [
    {
     "name": "stderr",
     "output_type": "stream",
     "text": [
      "Detected kernel version 4.18.0, which is below the recommended minimum of 5.5.0; this can cause the process to hang. It is recommended to upgrade the kernel to the minimum version or higher.\n"
     ]
    }
   ],
   "source": [
    "trainer = Trainer(\n",
    "    model_init=model_init,\n",
    "    args = training_args,\n",
    "    train_dataset = train_dataset,\n",
    "    eval_dataset = val_dataset,\n",
    "    compute_metrics = compute_metrics,\n",
    ")"
   ]
  },
  {
   "cell_type": "code",
   "execution_count": 158,
   "id": "af1ed3ed",
   "metadata": {},
   "outputs": [
    {
     "name": "stderr",
     "output_type": "stream",
     "text": [
      "/home/byw2/.conda/envs/dr-bert-env/lib/python3.9/site-packages/torch/nn/parallel/_functions.py:68: UserWarning: Was asked to gather along dimension 0, but all input tensors were scalars; will instead unsqueeze and return a vector.\n",
      "  warnings.warn('Was asked to gather along dimension 0, but all '\n"
     ]
    },
    {
     "data": {
      "text/html": [
       "\n",
       "    <div>\n",
       "      \n",
       "      <progress value='785' max='785' style='width:300px; height:20px; vertical-align: middle;'></progress>\n",
       "      [785/785 00:42, Epoch 1/1]\n",
       "    </div>\n",
       "    <table border=\"1\" class=\"dataframe\">\n",
       "  <thead>\n",
       " <tr style=\"text-align: left;\">\n",
       "      <th>Epoch</th>\n",
       "      <th>Training Loss</th>\n",
       "      <th>Validation Loss</th>\n",
       "      <th>Precision Normal</th>\n",
       "      <th>Recall Normal</th>\n",
       "      <th>F1 Normal</th>\n",
       "      <th>Roc Auc Normal</th>\n",
       "      <th>Mcc Normal</th>\n",
       "    </tr>\n",
       "  </thead>\n",
       "  <tbody>\n",
       "    <tr>\n",
       "      <td>1</td>\n",
       "      <td>0.310700</td>\n",
       "      <td>0.259302</td>\n",
       "      <td>0.693860</td>\n",
       "      <td>0.200245</td>\n",
       "      <td>0.310796</td>\n",
       "      <td>0.794237</td>\n",
       "      <td>0.309684</td>\n",
       "    </tr>\n",
       "  </tbody>\n",
       "</table><p>"
      ],
      "text/plain": [
       "<IPython.core.display.HTML object>"
      ]
     },
     "metadata": {},
     "output_type": "display_data"
    },
    {
     "name": "stdout",
     "output_type": "stream",
     "text": [
      "(86238,)\n"
     ]
    },
    {
     "data": {
      "text/plain": [
       "TrainOutput(global_step=785, training_loss=0.34079548052162123, metrics={'train_runtime': 42.5016, 'train_samples_per_second': 36.916, 'train_steps_per_second': 18.47, 'total_flos': 409989427900416.0, 'train_loss': 0.34079548052162123, 'epoch': 1.0})"
      ]
     },
     "execution_count": 158,
     "metadata": {},
     "output_type": "execute_result"
    }
   ],
   "source": [
    "trainer.train()"
   ]
  },
  {
   "cell_type": "code",
   "execution_count": 30,
   "id": "7cbf2960",
   "metadata": {},
   "outputs": [
    {
     "name": "stdout",
     "output_type": "stream",
     "text": [
      "huggingface/tokenizers: The current process just got forked, after parallelism has already been used. Disabling parallelism to avoid deadlocks...\n",
      "To disable this warning, you can either:\n",
      "\t- Avoid using `tokenizers` before the fork if possible\n",
      "\t- Explicitly set the environment variable TOKENIZERS_PARALLELISM=(true | false)\n",
      "# packages in environment at /home/byw2/.conda/envs/dr-bert-env:\n",
      "#\n",
      "# Name                    Version                   Build  Channel\n",
      "pytorch                   2.0.1           cpu_py39hab5cca8_0  \n"
     ]
    }
   ],
   "source": [
    "!conda list torch"
   ]
  },
  {
   "cell_type": "code",
   "execution_count": null,
   "id": "014d0a2e",
   "metadata": {},
   "outputs": [],
   "source": []
  }
 ],
 "metadata": {
  "kernelspec": {
   "display_name": "dr-bert-env [~/.conda/envs/dr-bert-env/]",
   "language": "python",
   "name": "conda_dr-bert-env"
  },
  "language_info": {
   "codemirror_mode": {
    "name": "ipython",
    "version": 3
   },
   "file_extension": ".py",
   "mimetype": "text/x-python",
   "name": "python",
   "nbconvert_exporter": "python",
   "pygments_lexer": "ipython3",
   "version": "3.9.0"
  }
 },
 "nbformat": 4,
 "nbformat_minor": 5
}
