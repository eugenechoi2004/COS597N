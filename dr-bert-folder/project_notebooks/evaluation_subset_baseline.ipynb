{
 "cells": [
  {
   "cell_type": "code",
   "execution_count": 23,
   "id": "7baf9bc1",
   "metadata": {},
   "outputs": [],
   "source": [
    "from transformers import RobertaTokenizerFast, AutoModelForTokenClassification\n",
    "from sklearn.metrics import accuracy_score, precision_recall_fscore_support, log_loss, accuracy_score, matthews_corrcoef\n",
    "from sklearn.metrics import roc_auc_score\n",
    "from scipy.special import softmax\n",
    "import pandas as pd\n",
    "import pickle\n",
    "import numpy as np\n",
    "import torch\n",
    "# import pickle5 as pickle"
   ]
  },
  {
   "cell_type": "code",
   "execution_count": 24,
   "id": "644c3b5c",
   "metadata": {},
   "outputs": [
    {
     "data": {
      "text/plain": [
       "True"
      ]
     },
     "execution_count": 24,
     "metadata": {},
     "output_type": "execute_result"
    }
   ],
   "source": [
    "import torch\n",
    "torch.cuda.is_available()"
   ]
  },
  {
   "cell_type": "code",
   "execution_count": 25,
   "id": "8bbf1e42",
   "metadata": {},
   "outputs": [
    {
     "name": "stderr",
     "output_type": "stream",
     "text": [
      "Special tokens have been added in the vocabulary, make sure the associated word embeddings are fine-tuned or trained.\n",
      "Special tokens have been added in the vocabulary, make sure the associated word embeddings are fine-tuned or trained.\n"
     ]
    }
   ],
   "source": [
    "tokenizer = RobertaTokenizerFast.from_pretrained(\"../checkpoint-final/\")\n",
    "best_ft_model = AutoModelForTokenClassification.from_pretrained(\"../subset_outputs/default_baseline/Checkpoints/checkpoint-3474/\")\n",
    "df_test = pd.read_pickle('../Datasets/subset_test.pkl')"
   ]
  },
  {
   "cell_type": "code",
   "execution_count": 28,
   "id": "f4e5976b",
   "metadata": {},
   "outputs": [],
   "source": [
    "def precision_recall_f1_roc_convolve(name, logits, labels, convolution):\n",
    "    logits = [i[1] for i in logits]\n",
    "    convolved = np.convolve(np.array(logits).flatten(), np.array(convolution / np.sum(convolution).flatten()), 'same')\n",
    "    p = [(1 - i, i) for i in convolved]\n",
    "    roc = [i[1] for i in p]\n",
    "    print(len(p))\n",
    "    p = np.argmax(p, axis=-1)\n",
    "    precision, recall, f1, support = precision_recall_fscore_support(labels, p)\n",
    "    roc_auc = roc_auc_score(labels, roc)\n",
    "    mcc = matthews_corrcoef(labels, p)\n",
    "    return {\n",
    "        f'precision_{name}':precision[1],\n",
    "        f'recall_{name}':recall[1],\n",
    "        f'f1_{name}':f1[1],\n",
    "        f'roc_auc_{name}':roc_auc,\n",
    "        f'MCC_{name}':mcc,\n",
    "    }\n",
    "\n",
    "def compute_metrics(logits, labels):\n",
    "    logits = softmax(logits, axis=1)\n",
    "    l = labels\n",
    "#     l = []\n",
    "#     for j, i in enumerate(labels):\n",
    "#         l = l + list(i)\n",
    "#     print(len(l), len(logits))\n",
    "    lg2 = logits\n",
    "    metrics = {}\n",
    "    print(lg2.shape)\n",
    "    metrics.update(precision_recall_f1_roc_convolve('normal', lg2, l, [1]))\n",
    "#     metrics.update(precision_recall_f1_roc_convolve('wa5', lg2, l, [1,1,1,1,1]))\n",
    "#     metrics.update(precision_recall_f1_roc_convolve('wa9', lg2, l, [1,1,1,1,1,1,1]))\n",
    "#     metrics.update(precision_recall_f1_roc_convolve('wa15', lg2, l, [1]*15))\n",
    "#     metrics.update(precision_recall_f1_roc_convolve('linear5', lg2, l, [1,2,3,2,1]))\n",
    "#     metrics.update(precision_recall_f1_roc_convolve('linear9', lg2, l, [1,2,3,4,5,4,3,2,1]))\n",
    "#     metrics.update(precision_recall_f1_roc_convolve('linear15', lg2, l, [1,2,3,4,5,6,7,8,7,6,5,4,3,2,1]))\n",
    "#     metrics.update(precision_recall_f1_roc_convolve('quad5', lg2, l, [1,3,9,3,1]))\n",
    "#     metrics.update(precision_recall_f1_roc_convolve('quad9', lg2, l, [1,3,9,27,81,27,9,3,1]))\n",
    "#     metrics.update(precision_recall_f1_roc_convolve('quad15', lg2, l, [1,3,9,27,81,243,729,2187,729,243,81,27,9,3,1]))\n",
    "    \n",
    "    return metrics\n",
    "\n",
    "def model_out(encoded, model):\n",
    "    \"\"\"Given encoding, pass through model to get logits. Returns logits.\"\"\"\n",
    "    encoded.to(device)\n",
    "    with torch.no_grad():\n",
    "        output = model(**encoded)\n",
    "    return output\n",
    "\n",
    "def get_word_vector(sent, tokenizer, model):\n",
    "    \"\"\"Returns logits.\"\"\"\n",
    "    encoded = tokenizer.encode_plus(sent, return_tensors=\"pt\", truncation=True, max_length=1024)\n",
    "    out = model_out(encoded, model)\n",
    "    return out"
   ]
  },
  {
   "cell_type": "code",
   "execution_count": 32,
   "id": "c4a5fd61",
   "metadata": {},
   "outputs": [
    {
     "data": {
      "text/plain": [
       "RobertaForTokenClassification(\n",
       "  (roberta): RobertaModel(\n",
       "    (embeddings): RobertaEmbeddings(\n",
       "      (word_embeddings): Embedding(35, 768, padding_idx=1)\n",
       "      (position_embeddings): Embedding(1026, 768, padding_idx=1)\n",
       "      (token_type_embeddings): Embedding(1, 768)\n",
       "      (LayerNorm): LayerNorm((768,), eps=1e-12, elementwise_affine=True)\n",
       "      (dropout): Dropout(p=0.1, inplace=False)\n",
       "    )\n",
       "    (encoder): RobertaEncoder(\n",
       "      (layer): ModuleList(\n",
       "        (0-5): 6 x RobertaLayer(\n",
       "          (attention): RobertaAttention(\n",
       "            (self): RobertaSelfAttention(\n",
       "              (query): Linear(in_features=768, out_features=768, bias=True)\n",
       "              (key): Linear(in_features=768, out_features=768, bias=True)\n",
       "              (value): Linear(in_features=768, out_features=768, bias=True)\n",
       "              (dropout): Dropout(p=0.1, inplace=False)\n",
       "            )\n",
       "            (output): RobertaSelfOutput(\n",
       "              (dense): Linear(in_features=768, out_features=768, bias=True)\n",
       "              (LayerNorm): LayerNorm((768,), eps=1e-12, elementwise_affine=True)\n",
       "              (dropout): Dropout(p=0.1, inplace=False)\n",
       "            )\n",
       "          )\n",
       "          (intermediate): RobertaIntermediate(\n",
       "            (dense): Linear(in_features=768, out_features=3072, bias=True)\n",
       "            (intermediate_act_fn): GELUActivation()\n",
       "          )\n",
       "          (output): RobertaOutput(\n",
       "            (dense): Linear(in_features=3072, out_features=768, bias=True)\n",
       "            (LayerNorm): LayerNorm((768,), eps=1e-12, elementwise_affine=True)\n",
       "            (dropout): Dropout(p=0.1, inplace=False)\n",
       "          )\n",
       "        )\n",
       "      )\n",
       "    )\n",
       "  )\n",
       "  (dropout): Dropout(p=0.1, inplace=False)\n",
       "  (classifier): Linear(in_features=768, out_features=2, bias=True)\n",
       ")"
      ]
     },
     "execution_count": 32,
     "metadata": {},
     "output_type": "execute_result"
    }
   ],
   "source": [
    "device = torch.device('cuda')\n",
    "best_ft_model.to(device)"
   ]
  },
  {
   "cell_type": "code",
   "execution_count": 33,
   "id": "68f863fa",
   "metadata": {},
   "outputs": [],
   "source": [
    "Xs = []\n",
    "labs = []\n",
    "for index, row in df_test.iterrows():\n",
    "    seq = row['Sequence']\n",
    "    lab = list(row['full'])\n",
    "    word_embedding = get_word_vector(seq[:min(1024, len(seq))], tokenizer, best_ft_model)\n",
    "    word_embedding = word_embedding['logits'][0]\n",
    "    word_embedding = word_embedding[1:-1]\n",
    "    word_embedding = word_embedding.cpu()\n",
    "    word_embedding_full = np.squeeze(word_embedding.numpy())\n",
    "#     print(word_embedding.shape)\n",
    "    if len(seq) > 2044:\n",
    "        for i in range(1022, len(seq) - 1022, 1022):\n",
    "            word_embedding = get_word_vector(seq[i:i+1022], tokenizer, best_ft_model)\n",
    "            word_embedding = word_embedding['logits'][0]\n",
    "            word_embedding = word_embedding[1:-1]\n",
    "            word_embedding = word_embedding.cpu()\n",
    "            word_embedding = np.squeeze(word_embedding.numpy())\n",
    "            word_embedding_full = np.concatenate([word_embedding_full, word_embedding], axis=0)\n",
    "    if len(seq) > 1024:\n",
    "        word_embedding = get_word_vector(seq[len(seq) - 1022:len(seq)], tokenizer, best_ft_model)\n",
    "        word_embedding = word_embedding['logits'][0]\n",
    "        word_embedding = word_embedding[1:-1]\n",
    "        word_embedding = word_embedding.cpu()\n",
    "        word_embedding = np.squeeze(word_embedding.numpy())\n",
    "        overlap_amount = 1022 - (len(seq) % 1022)\n",
    "        overlap = word_embedding_full[(-1 * overlap_amount):]\n",
    "        word_embedding_full[(-1 * overlap_amount):] = (overlap + word_embedding[:overlap_amount]) / 2\n",
    "        end_chunk = word_embedding[overlap_amount:]\n",
    "        word_embedding_full = np.concatenate([word_embedding_full, end_chunk], axis=0)\n",
    "#     print(word_embedding_full.shape, len(seq))\n",
    "    Xs.append(word_embedding_full)\n",
    "    labs.append(lab[:len(seq)])\n",
    "    \n",
    "    "
   ]
  },
  {
   "cell_type": "code",
   "execution_count": 34,
   "id": "5e75f370",
   "metadata": {},
   "outputs": [],
   "source": [
    "Xs = np.concatenate(Xs)\n",
    "labs = np.concatenate(labs)\n",
    "metrics = compute_metrics(Xs, labs)\n",
    "metrics"
   ]
  },
  {
   "cell_type": "code",
   "execution_count": null,
   "id": "c7371c64",
   "metadata": {},
   "outputs": [],
   "source": []
  }
 ],
 "metadata": {
  "kernelspec": {
   "display_name": "dr-bert-env [~/.conda/envs/dr-bert-env/]",
   "language": "python",
   "name": "conda_dr-bert-env"
  },
  "language_info": {
   "codemirror_mode": {
    "name": "ipython",
    "version": 3
   },
   "file_extension": ".py",
   "mimetype": "text/x-python",
   "name": "python",
   "nbconvert_exporter": "python",
   "pygments_lexer": "ipython3",
   "version": "3.9.0"
  }
 },
 "nbformat": 4,
 "nbformat_minor": 5
}
