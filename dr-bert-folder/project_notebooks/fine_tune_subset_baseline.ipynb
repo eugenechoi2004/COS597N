{
 "cells": [
  {
   "cell_type": "markdown",
   "id": "ae1dbfb0",
   "metadata": {},
   "source": [
    "# COS597N Project Notebook"
   ]
  },
  {
   "cell_type": "code",
   "execution_count": 257,
   "id": "9dfe17c0",
   "metadata": {
    "scrolled": true
   },
   "outputs": [],
   "source": [
    "import pickle\n",
    "import os\n",
    "import torch\n",
    "import torch.nn as nn\n",
    "from transformers import RobertaTokenizerFast, Trainer, TrainingArguments, RobertaForTokenClassification\n",
    "from torch.utils.data import Dataset\n",
    "import pandas as pd\n",
    "import numpy as np\n",
    "from sklearn.metrics import accuracy_score, precision_recall_fscore_support, log_loss, accuracy_score, matthews_corrcoef\n",
    "from sklearn.utils import shuffle\n",
    "from matplotlib import pyplot as plt\n",
    "from sklearn.metrics import roc_auc_score\n",
    "import re\n",
    "import tqdm\n",
    "import torch.nn.functional as F\n",
    "from datetime import datetime\n",
    "from copy import deepcopy\n",
    "from scipy.special import softmax\n",
    "from sklearn.model_selection import train_test_split\n",
    "import torch\n",
    "from torch.utils.data import DataLoader, Dataset\n",
    "from transformers import BertTokenizer, BertForSequenceClassification, AdamW, AutoModel\n",
    "from tqdm import tqdm"
   ]
  },
  {
   "cell_type": "code",
   "execution_count": 258,
   "id": "ee6cfef1",
   "metadata": {},
   "outputs": [],
   "source": [
    "df_full = pickle.load(open('../Datasets/subset_featurized.pkl', \"rb\"))"
   ]
  },
  {
   "cell_type": "code",
   "execution_count": 259,
   "id": "5c64d7b2",
   "metadata": {},
   "outputs": [],
   "source": [
    "df_train = pickle.load(open('../Datasets/subset_train.pkl', \"rb\"))\n",
    "df_val = pickle.load(open('../Datasets/subset_val.pkl', \"rb\"))\n",
    "df_test = pickle.load(open('../Datasets/subset_test.pkl', \"rb\"))"
   ]
  },
  {
   "cell_type": "code",
   "execution_count": 260,
   "id": "032e181e",
   "metadata": {},
   "outputs": [
    {
     "data": {
      "text/plain": [
       "count     477.000000\n",
       "mean      540.436059\n",
       "std       430.759875\n",
       "min        24.000000\n",
       "25%       226.000000\n",
       "50%       448.000000\n",
       "75%       713.000000\n",
       "max      2442.000000\n",
       "dtype: float64"
      ]
     },
     "execution_count": 260,
     "metadata": {},
     "output_type": "execute_result"
    }
   ],
   "source": [
    "protein_lens = pd.Series([len(seq) for seq in df_full['Sequence']])\n",
    "protein_lens.describe()"
   ]
  },
  {
   "cell_type": "code",
   "execution_count": 261,
   "id": "0a3c2ff7",
   "metadata": {},
   "outputs": [],
   "source": [
    "MAX_LENGTH = 1024\n",
    "EPOCHS = 10\n",
    "# EPOCHS = 1\n",
    "LEARNING_RATE = 2e-6\n",
    "BATCH_SIZE = 1\n",
    "TOKENIZER_PATH =  \"../checkpoint-final/\"\n",
    "# is this pretrained on protein sequences?\n",
    "PRETRAINED_MODEL = \"../checkpoint-final/\"\n",
    "NUM_CLASSES = 2\n",
    "SCHEDULER='cosine_with_restarts'"
   ]
  },
  {
   "cell_type": "code",
   "execution_count": 262,
   "id": "be61cf08",
   "metadata": {},
   "outputs": [
    {
     "data": {
      "text/html": [
       "<div>\n",
       "<style scoped>\n",
       "    .dataframe tbody tr th:only-of-type {\n",
       "        vertical-align: middle;\n",
       "    }\n",
       "\n",
       "    .dataframe tbody tr th {\n",
       "        vertical-align: top;\n",
       "    }\n",
       "\n",
       "    .dataframe thead th {\n",
       "        text-align: right;\n",
       "    }\n",
       "</style>\n",
       "<table border=\"1\" class=\"dataframe\">\n",
       "  <thead>\n",
       "    <tr style=\"text-align: right;\">\n",
       "      <th></th>\n",
       "      <th>disprot_ID</th>\n",
       "      <th>Sequence</th>\n",
       "      <th>full</th>\n",
       "      <th>pLDDT</th>\n",
       "    </tr>\n",
       "  </thead>\n",
       "  <tbody>\n",
       "    <tr>\n",
       "      <th>383</th>\n",
       "      <td>DP02004</td>\n",
       "      <td>MAENLLDGPPNPKRAKLSSPGFSANDSTDFGSLFDLENDLPDELIP...</td>\n",
       "      <td>[0.0, 0.0, 0.0, 0.0, 0.0, 0.0, 0.0, 0.0, 0.0, ...</td>\n",
       "      <td>[0.3606, 0.3402, 0.3392, 0.3327, 0.3693, 0.352...</td>\n",
       "    </tr>\n",
       "    <tr>\n",
       "      <th>105</th>\n",
       "      <td>DP01306</td>\n",
       "      <td>MAELLASAGSACSWDFPRAPPSFPPPAASRGGLGGTRSFRPHRGAE...</td>\n",
       "      <td>[0.0, 0.0, 0.0, 0.0, 0.0, 0.0, 0.0, 0.0, 0.0, ...</td>\n",
       "      <td>[0.2828, 0.2607, 0.2338, 0.3044, 0.3376, 0.302...</td>\n",
       "    </tr>\n",
       "    <tr>\n",
       "      <th>38</th>\n",
       "      <td>DP01161</td>\n",
       "      <td>MSLICSISNEVPEHPCVSPVSNHVYERRLIEKYIAENGTDPINNQP...</td>\n",
       "      <td>[0.0, 0.0, 0.0, 0.0, 0.0, 0.0, 0.0, 0.0, 0.0, ...</td>\n",
       "      <td>[0.5824, 0.7492, 0.8249, 0.8809, 0.9009, 0.909...</td>\n",
       "    </tr>\n",
       "    <tr>\n",
       "      <th>37</th>\n",
       "      <td>DP01160</td>\n",
       "      <td>MSSPRERRPASQAPRLSRRPPAHQTSRSSPDTTAPTGSGLSNRFVN...</td>\n",
       "      <td>[1.0, 1.0, 1.0, 1.0, 1.0, 1.0, 1.0, 1.0, 1.0, ...</td>\n",
       "      <td>[0.4811, 0.5975, 0.4979, 0.5945, 0.5794, 0.477...</td>\n",
       "    </tr>\n",
       "    <tr>\n",
       "      <th>312</th>\n",
       "      <td>DP01788</td>\n",
       "      <td>MDPGNENSATEAAAIIDLDPDFEPQSRPRSCTWPLPRPEIANQPSE...</td>\n",
       "      <td>[0.0, 0.0, 0.0, 0.0, 0.0, 0.0, 0.0, 0.0, 0.0, ...</td>\n",
       "      <td>[0.3925, 0.4244, 0.4723, 0.4422, 0.4941, 0.468...</td>\n",
       "    </tr>\n",
       "    <tr>\n",
       "      <th>...</th>\n",
       "      <td>...</td>\n",
       "      <td>...</td>\n",
       "      <td>...</td>\n",
       "      <td>...</td>\n",
       "    </tr>\n",
       "    <tr>\n",
       "      <th>385</th>\n",
       "      <td>DP02006</td>\n",
       "      <td>MSCINLPTVLPGSPSKTRGQIQVILGPMFSGKSTELMRRVRRFQIA...</td>\n",
       "      <td>[1.0, 1.0, 1.0, 1.0, 1.0, 1.0, 1.0, 1.0, 1.0, ...</td>\n",
       "      <td>[0.4041, 0.4742, 0.4954, 0.5265, 0.4956, 0.548...</td>\n",
       "    </tr>\n",
       "    <tr>\n",
       "      <th>402</th>\n",
       "      <td>DP02069</td>\n",
       "      <td>MATTATMATSGSARKRLLKEEDMTKVEFETSEEVDVTPTFDTMGLR...</td>\n",
       "      <td>[1.0, 1.0, 1.0, 1.0, 1.0, 1.0, 1.0, 1.0, 1.0, ...</td>\n",
       "      <td>[0.4136, 0.3827, 0.3676, 0.378, 0.3997, 0.3775...</td>\n",
       "    </tr>\n",
       "    <tr>\n",
       "      <th>341</th>\n",
       "      <td>DP01876</td>\n",
       "      <td>MSARGEGAGQPSTSAQGQPAAPAPQKRGRGRPRKQQQEPTGEPSPK...</td>\n",
       "      <td>[1.0, 1.0, 1.0, 1.0, 1.0, 1.0, 1.0, 1.0, 1.0, ...</td>\n",
       "      <td>[0.6807, 0.7178, 0.6958, 0.6563, 0.6627, 0.675...</td>\n",
       "    </tr>\n",
       "    <tr>\n",
       "      <th>333</th>\n",
       "      <td>DP01857</td>\n",
       "      <td>MAVPETRPNHTIYINNLNEKIKKDELKKSLYAIFSQFGQILDILVS...</td>\n",
       "      <td>[0.0, 0.0, 0.0, 0.0, 0.0, 0.0, 0.0, 0.0, 0.0, ...</td>\n",
       "      <td>[0.3945, 0.4299, 0.524, 0.5699, 0.5804, 0.7761...</td>\n",
       "    </tr>\n",
       "    <tr>\n",
       "      <th>303</th>\n",
       "      <td>DP01767</td>\n",
       "      <td>MGPLQGDGGPALGGADVAPRLSPVRVWPRPQAPKEPALHPMGLSLP...</td>\n",
       "      <td>[0.0, 0.0, 0.0, 0.0, 0.0, 0.0, 0.0, 0.0, 0.0, ...</td>\n",
       "      <td>[0.4204, 0.4144, 0.5457, 0.4025, 0.3943, 0.479...</td>\n",
       "    </tr>\n",
       "  </tbody>\n",
       "</table>\n",
       "<p>386 rows × 4 columns</p>\n",
       "</div>"
      ],
      "text/plain": [
       "    disprot_ID                                           Sequence  \\\n",
       "383    DP02004  MAENLLDGPPNPKRAKLSSPGFSANDSTDFGSLFDLENDLPDELIP...   \n",
       "105    DP01306  MAELLASAGSACSWDFPRAPPSFPPPAASRGGLGGTRSFRPHRGAE...   \n",
       "38     DP01161  MSLICSISNEVPEHPCVSPVSNHVYERRLIEKYIAENGTDPINNQP...   \n",
       "37     DP01160  MSSPRERRPASQAPRLSRRPPAHQTSRSSPDTTAPTGSGLSNRFVN...   \n",
       "312    DP01788  MDPGNENSATEAAAIIDLDPDFEPQSRPRSCTWPLPRPEIANQPSE...   \n",
       "..         ...                                                ...   \n",
       "385    DP02006  MSCINLPTVLPGSPSKTRGQIQVILGPMFSGKSTELMRRVRRFQIA...   \n",
       "402    DP02069  MATTATMATSGSARKRLLKEEDMTKVEFETSEEVDVTPTFDTMGLR...   \n",
       "341    DP01876  MSARGEGAGQPSTSAQGQPAAPAPQKRGRGRPRKQQQEPTGEPSPK...   \n",
       "333    DP01857  MAVPETRPNHTIYINNLNEKIKKDELKKSLYAIFSQFGQILDILVS...   \n",
       "303    DP01767  MGPLQGDGGPALGGADVAPRLSPVRVWPRPQAPKEPALHPMGLSLP...   \n",
       "\n",
       "                                                  full  \\\n",
       "383  [0.0, 0.0, 0.0, 0.0, 0.0, 0.0, 0.0, 0.0, 0.0, ...   \n",
       "105  [0.0, 0.0, 0.0, 0.0, 0.0, 0.0, 0.0, 0.0, 0.0, ...   \n",
       "38   [0.0, 0.0, 0.0, 0.0, 0.0, 0.0, 0.0, 0.0, 0.0, ...   \n",
       "37   [1.0, 1.0, 1.0, 1.0, 1.0, 1.0, 1.0, 1.0, 1.0, ...   \n",
       "312  [0.0, 0.0, 0.0, 0.0, 0.0, 0.0, 0.0, 0.0, 0.0, ...   \n",
       "..                                                 ...   \n",
       "385  [1.0, 1.0, 1.0, 1.0, 1.0, 1.0, 1.0, 1.0, 1.0, ...   \n",
       "402  [1.0, 1.0, 1.0, 1.0, 1.0, 1.0, 1.0, 1.0, 1.0, ...   \n",
       "341  [1.0, 1.0, 1.0, 1.0, 1.0, 1.0, 1.0, 1.0, 1.0, ...   \n",
       "333  [0.0, 0.0, 0.0, 0.0, 0.0, 0.0, 0.0, 0.0, 0.0, ...   \n",
       "303  [0.0, 0.0, 0.0, 0.0, 0.0, 0.0, 0.0, 0.0, 0.0, ...   \n",
       "\n",
       "                                                 pLDDT  \n",
       "383  [0.3606, 0.3402, 0.3392, 0.3327, 0.3693, 0.352...  \n",
       "105  [0.2828, 0.2607, 0.2338, 0.3044, 0.3376, 0.302...  \n",
       "38   [0.5824, 0.7492, 0.8249, 0.8809, 0.9009, 0.909...  \n",
       "37   [0.4811, 0.5975, 0.4979, 0.5945, 0.5794, 0.477...  \n",
       "312  [0.3925, 0.4244, 0.4723, 0.4422, 0.4941, 0.468...  \n",
       "..                                                 ...  \n",
       "385  [0.4041, 0.4742, 0.4954, 0.5265, 0.4956, 0.548...  \n",
       "402  [0.4136, 0.3827, 0.3676, 0.378, 0.3997, 0.3775...  \n",
       "341  [0.6807, 0.7178, 0.6958, 0.6563, 0.6627, 0.675...  \n",
       "333  [0.3945, 0.4299, 0.524, 0.5699, 0.5804, 0.7761...  \n",
       "303  [0.4204, 0.4144, 0.5457, 0.4025, 0.3943, 0.479...  \n",
       "\n",
       "[386 rows x 4 columns]"
      ]
     },
     "execution_count": 262,
     "metadata": {},
     "output_type": "execute_result"
    }
   ],
   "source": [
    "df_train"
   ]
  },
  {
   "cell_type": "code",
   "execution_count": 263,
   "id": "c63e9310",
   "metadata": {},
   "outputs": [],
   "source": [
    "class ProteinDegreeDataset(Dataset):\n",
    "\n",
    "    def __init__(self, max_length, df, tokenizer, region_type):\n",
    "        self.region_type = region_type # e.g. 'full'\n",
    "        self.df = df\n",
    "        self.seqs, self.labels, self.plddts = self.load_dataset()\n",
    "        self.tokenizer = tokenizer\n",
    "        self.max_length = max_length\n",
    "\n",
    "    def load_dataset(self):\n",
    "        seq = list(self.df['Sequence']) # list of protein sequences\n",
    "        label = list(self.df[self.region_type]) # list of list of labels\n",
    "        plddts = list(self.df['pLDDT'])\n",
    "        return seq, label, plddts\n",
    "\n",
    "    def __len__(self):\n",
    "        return len(self.labels)\n",
    "\n",
    "    def __getitem__(self, idx):\n",
    "        if torch.is_tensor(idx):\n",
    "            idx = idx.tolist()\n",
    "\n",
    "        seq = \" \".join(\"\".join(self.seqs[idx].split()))\n",
    "        seq = re.sub(r\"[UZOB]\", \"X\", seq)\n",
    "\n",
    "        seq_ids = self.tokenizer(seq, truncation=True, padding='max_length', max_length=self.max_length)\n",
    "        sample = {key: torch.tensor(val) for key, val in seq_ids.items()}\n",
    "        tens = torch.tensor(self.labels[idx], dtype=torch.long)\n",
    "        sample['labels'] = F.pad(tens, (0, MAX_LENGTH - len(tens)))\n",
    "        plddts = torch.tensor(self.plddts[idx], dtype=torch.float)\n",
    "        sample['plddts'] = F.pad(plddts, (0, MAX_LENGTH - len(plddts)))\n",
    "        return sample"
   ]
  },
  {
   "cell_type": "code",
   "execution_count": 264,
   "id": "dc73e76c",
   "metadata": {},
   "outputs": [
    {
     "name": "stderr",
     "output_type": "stream",
     "text": [
      "Special tokens have been added in the vocabulary, make sure the associated word embeddings are fine-tuned or trained.\n",
      "Special tokens have been added in the vocabulary, make sure the associated word embeddings are fine-tuned or trained.\n"
     ]
    }
   ],
   "source": [
    "tokenizer = RobertaTokenizerFast.from_pretrained(TOKENIZER_PATH, do_lower_case=False)"
   ]
  },
  {
   "cell_type": "code",
   "execution_count": 265,
   "id": "a357d78f",
   "metadata": {},
   "outputs": [],
   "source": [
    "train_dataset = ProteinDegreeDataset(MAX_LENGTH, df_train, tokenizer, 'full')\n",
    "# train_dataset = ProteinDegreeDataset(MAX_LENGTH, df_train., tokenizer, 'full')\n",
    "val_dataset = ProteinDegreeDataset(MAX_LENGTH, df_val, tokenizer, 'full')\n",
    "# val_dataset = ProteinDegreeDataset(MAX_LENGTH, df_val, tokenizer, 'full')"
   ]
  },
  {
   "cell_type": "code",
   "execution_count": 266,
   "id": "f90620b7",
   "metadata": {},
   "outputs": [
    {
     "data": {
      "text/plain": [
       "43"
      ]
     },
     "execution_count": 266,
     "metadata": {},
     "output_type": "execute_result"
    }
   ],
   "source": [
    "len(val_dataset)"
   ]
  },
  {
   "cell_type": "code",
   "execution_count": 178,
   "id": "72bc7a4b",
   "metadata": {
    "scrolled": true
   },
   "outputs": [
    {
     "name": "stderr",
     "output_type": "stream",
     "text": [
      "/tmp/ipykernel_3310506/4153848418.py:28: DeprecationWarning: an integer is required (got type float).  Implicit conversion to integers using __int__ is deprecated, and may be removed in a future version of Python.\n",
      "  tens = torch.tensor(self.labels[idx], dtype=torch.long)\n"
     ]
    },
    {
     "data": {
      "text/plain": [
       "torch.Size([1024])"
      ]
     },
     "execution_count": 178,
     "metadata": {},
     "output_type": "execute_result"
    }
   ],
   "source": [
    "train_dataset[0]['plddts'].shape"
   ]
  },
  {
   "cell_type": "code",
   "execution_count": 179,
   "id": "b3297980",
   "metadata": {},
   "outputs": [
    {
     "name": "stderr",
     "output_type": "stream",
     "text": [
      "/tmp/ipykernel_3310506/4153848418.py:28: DeprecationWarning: an integer is required (got type float).  Implicit conversion to integers using __int__ is deprecated, and may be removed in a future version of Python.\n",
      "  tens = torch.tensor(self.labels[idx], dtype=torch.long)\n"
     ]
    },
    {
     "data": {
      "text/plain": [
       "{'input_ids': tensor([ 4, 21, 16,  ...,  1,  1,  1]),\n",
       " 'attention_mask': tensor([1, 1, 1,  ..., 0, 0, 0]),\n",
       " 'labels': tensor([1, 1, 1,  ..., 0, 0, 0]),\n",
       " 'plddts': tensor([0.3562, 0.3728, 0.3850,  ..., 0.0000, 0.0000, 0.0000])}"
      ]
     },
     "execution_count": 179,
     "metadata": {},
     "output_type": "execute_result"
    }
   ],
   "source": [
    "val_dataset[0]"
   ]
  },
  {
   "cell_type": "code",
   "execution_count": 180,
   "id": "191c7ee0",
   "metadata": {},
   "outputs": [
    {
     "name": "stderr",
     "output_type": "stream",
     "text": [
      "/tmp/ipykernel_3310506/4153848418.py:28: DeprecationWarning: an integer is required (got type float).  Implicit conversion to integers using __int__ is deprecated, and may be removed in a future version of Python.\n",
      "  tens = torch.tensor(self.labels[idx], dtype=torch.long)\n"
     ]
    },
    {
     "data": {
      "text/plain": [
       "16    130\n",
       "10    107\n",
       "18    104\n",
       "6      99\n",
       "7      89\n",
       "5      74\n",
       "15     70\n",
       "17     64\n",
       "8      48\n",
       "21     44\n",
       "12     30\n",
       "13     28\n",
       "11     28\n",
       "9      27\n",
       "22     24\n",
       "14     24\n",
       "23     11\n",
       "19     11\n",
       "20      8\n",
       "24      2\n",
       "4       1\n",
       "0       1\n",
       "dtype: int64"
      ]
     },
     "execution_count": 180,
     "metadata": {},
     "output_type": "execute_result"
    }
   ],
   "source": [
    "pd.Series(train_dataset[0]['input_ids']).value_counts()"
   ]
  },
  {
   "cell_type": "markdown",
   "id": "f588e157",
   "metadata": {},
   "source": [
    "There are 25 tokens in the vocabulary (20 amino acids and [\"unk_token\": \"[UNK]\", \"sep_token\": \"[SEP]\", \"pad_token\": \"[PAD]\", \"cls_token\": \"[CLS]\", \"mask_token\": \"[MASK]\"])."
   ]
  },
  {
   "cell_type": "code",
   "execution_count": 181,
   "id": "6ff99a38",
   "metadata": {},
   "outputs": [
    {
     "name": "stderr",
     "output_type": "stream",
     "text": [
      "/tmp/ipykernel_3310506/4153848418.py:28: DeprecationWarning: an integer is required (got type float).  Implicit conversion to integers using __int__ is deprecated, and may be removed in a future version of Python.\n",
      "  tens = torch.tensor(self.labels[idx], dtype=torch.long)\n"
     ]
    },
    {
     "data": {
      "text/plain": [
       "1    1024\n",
       "dtype: int64"
      ]
     },
     "execution_count": 181,
     "metadata": {},
     "output_type": "execute_result"
    }
   ],
   "source": [
    "pd.Series(train_dataset[0]['attention_mask']).value_counts()"
   ]
  },
  {
   "cell_type": "markdown",
   "id": "f8c93618",
   "metadata": {},
   "source": [
    "All tokens should be attended to."
   ]
  },
  {
   "cell_type": "code",
   "execution_count": 182,
   "id": "bf275330",
   "metadata": {},
   "outputs": [
    {
     "name": "stdout",
     "output_type": "stream",
     "text": [
      "1024 1024 1024 1024\n"
     ]
    },
    {
     "name": "stderr",
     "output_type": "stream",
     "text": [
      "/tmp/ipykernel_3310506/4153848418.py:28: DeprecationWarning: an integer is required (got type float).  Implicit conversion to integers using __int__ is deprecated, and may be removed in a future version of Python.\n",
      "  tens = torch.tensor(self.labels[idx], dtype=torch.long)\n"
     ]
    }
   ],
   "source": [
    "print(len(train_dataset[0]['attention_mask']), len(train_dataset[0]['input_ids']), len(train_dataset[0]['labels']), len(train_dataset[0]['plddts'])) "
   ]
  },
  {
   "cell_type": "code",
   "execution_count": 183,
   "id": "292f4823",
   "metadata": {},
   "outputs": [
    {
     "name": "stderr",
     "output_type": "stream",
     "text": [
      "/tmp/ipykernel_3310506/4153848418.py:28: DeprecationWarning: an integer is required (got type float).  Implicit conversion to integers using __int__ is deprecated, and may be removed in a future version of Python.\n",
      "  tens = torch.tensor(self.labels[idx], dtype=torch.long)\n"
     ]
    },
    {
     "data": {
      "text/plain": [
       "{'input_ids': tensor([ 4, 21,  6,  ...,  1,  1,  1]),\n",
       " 'attention_mask': tensor([1, 1, 1,  ..., 0, 0, 0]),\n",
       " 'labels': tensor([0, 0, 0,  ..., 0, 0, 0]),\n",
       " 'plddts': tensor([0.2828, 0.2607, 0.2338,  ..., 0.0000, 0.0000, 0.0000])}"
      ]
     },
     "execution_count": 183,
     "metadata": {},
     "output_type": "execute_result"
    }
   ],
   "source": [
    "train_dataset[1]"
   ]
  },
  {
   "cell_type": "markdown",
   "id": "31f0f540",
   "metadata": {},
   "source": [
    "Finally, note that all training points are truncated to be 1024 amino acids for training."
   ]
  },
  {
   "cell_type": "code",
   "execution_count": 267,
   "id": "644b277e",
   "metadata": {},
   "outputs": [],
   "source": [
    "def precision_recall_f1_roc_convolve(name, logits, labels, convolution):\n",
    "    convolved = np.convolve(np.array(logits).flatten(), np.array(convolution / np.sum(convolution)).flatten(), 'same')\n",
    "    p = [(1 - i, i) for i in convolved]\n",
    "    roc = [i[1] for i in p]\n",
    "    roc2 = [i[0] for i in p]\n",
    "    p = np.argmax(p, axis=-1)\n",
    "    precision, recall, f1, support = precision_recall_fscore_support(labels, p)\n",
    "    roc_auc = roc_auc_score(labels, roc)\n",
    "    mcc = matthews_corrcoef(labels, p)\n",
    "    return {\n",
    "        f'precision_{name}':precision[1],\n",
    "        f'recall_{name}':recall[1],\n",
    "        f'f1_{name}':f1[1],\n",
    "        f'roc_auc_{name}':roc_auc,\n",
    "        f'mcc_{name}': mcc,\n",
    "    }\n",
    "\n",
    "def compute_metrics(eval_preds):\n",
    "    logits, labels = eval_preds\n",
    "    # creates probabilities\n",
    "    logits = softmax(logits, axis=2)\n",
    "    l = []\n",
    "    # concatenates all true labels for sequence into list\n",
    "    for j, i in enumerate(labels):\n",
    "        l = l + list(i[:len(df_val['Sequence'].iloc[j])])\n",
    "    # concatenates all prob that were predicted to be disordered into list\n",
    "    lg2 = []\n",
    "    for k, i in enumerate(logits):\n",
    "        lg2 = lg2 + [j[1] for j in i[:len(df_val['Sequence'].iloc[k])]]\n",
    "    print(np.array(lg2).shape)\n",
    "    # l is list of all concatenated true labels\n",
    "    # lg2 is list of all concatenated probabilities that corresponding residue in l is equal to 1  \n",
    "    metrics = {}\n",
    "    metrics.update(precision_recall_f1_roc_convolve('normal', lg2, l, [1]))\n",
    "#     metrics.update(precision_recall_f1_roc_convolve('wa5', lg2, l, [1,1,1,1,1]))\n",
    "#     metrics.update(precision_recall_f1_roc_convolve('wa9', lg2, l, [1,1,1,1,1,1,1]))\n",
    "#     metrics.update(precision_recall_f1_roc_convolve('wa15', lg2, l, [1]*15))\n",
    "#     metrics.update(precision_recall_f1_roc_convolve('linear5', lg2, l, [1,2,3,2,1]))\n",
    "#     metrics.update(precision_recall_f1_roc_convolve('linear9', lg2, l, [1,2,3,4,5,4,3,2,1]))\n",
    "#     metrics.update(precision_recall_f1_roc_convolve('linear15', lg2, l, [1,2,3,4,5,6,7,8,7,6,5,4,3,2,1]))\n",
    "#     metrics.update(precision_recall_f1_roc_convolve('quad5', lg2, l, [1,3,9,3,1]))\n",
    "#     metrics.update(precision_recall_f1_roc_convolve('quad9', lg2, l, [1,3,9,27,81,27,9,3,1]))\n",
    "#     metrics.update(precision_recall_f1_roc_convolve('quad15', lg2, l, [1,3,9,27,81,243,729,2187,729,243,81,27,9,3,1]))\n",
    "    \n",
    "    logits_path = OUTPUT_DIR + '/Logits/'\n",
    "    if not os.path.isdir(logits_path):\n",
    "        os.mkdir(logits_path)\n",
    "    new_df = deepcopy(df_val)\n",
    "    new_df['Logits'] = [[i[1] for i in x] for x in list(logits)]\n",
    "    pickle.dump(new_df, open(logits_path + datetime.now().strftime(\"%H:%M:%S\"), 'wb'))\n",
    "    return metrics"
   ]
  },
  {
   "cell_type": "code",
   "execution_count": 268,
   "id": "727848a2",
   "metadata": {},
   "outputs": [],
   "source": [
    "OUTPUT_DIR = f'../subset_outputs/custom_baseline/'"
   ]
  },
  {
   "cell_type": "code",
   "execution_count": 269,
   "id": "a5837dbc",
   "metadata": {},
   "outputs": [],
   "source": [
    "train_loader = DataLoader(train_dataset, batch_size=1, shuffle=True)\n",
    "val_loader = DataLoader(val_dataset, batch_size=16, shuffle=False)"
   ]
  },
  {
   "cell_type": "code",
   "execution_count": 270,
   "id": "81460120",
   "metadata": {},
   "outputs": [],
   "source": [
    "class CustomBERTClassifier(nn.Module):\n",
    "    def __init__(self, path, num_classes, plddt = False):\n",
    "        super(CustomBERTClassifier, self).__init__()\n",
    "        self.bert = AutoModel.from_pretrained(path)\n",
    "        self.dropout = nn.Dropout(0.1)  # Adjust dropout rate as needed\n",
    "        self.fc = nn.Linear(self.bert.config.hidden_size, num_classes)\n",
    "        self.plddt = plddt\n",
    "        if plddt:\n",
    "            self.fc = nn.Linear(self.bert.config.hidden_size + 1, num_classes)\n",
    "\n",
    "    def forward(self, input_ids, attention_mask, plddts=None):\n",
    "        outputs = self.bert(input_ids, attention_mask=attention_mask)\n",
    "        pooled_output = outputs.last_hidden_state\n",
    "        if plddts is not None and self.plddt:\n",
    "            pooled_output = torch.concat((pooled_output, plddts.unsqueeze(-1)), dim=2)\n",
    "        pooled_output = self.dropout(pooled_output)\n",
    "        logits = self.fc(pooled_output)\n",
    "        return logits"
   ]
  },
  {
   "cell_type": "code",
   "execution_count": 271,
   "id": "b4a81a69",
   "metadata": {},
   "outputs": [],
   "source": [
    "# from transformers import AutoModelForTokenClassification\n",
    "def model_init():\n",
    "#     model = AutoModelForTokenClassification.from_pretrained(PRETRAINED_MODEL, num_labels=NUM_CLASSES)\n",
    "    model = CustomBERTClassifier(PRETRAINED_MODEL, NUM_CLASSES)\n",
    "    return model"
   ]
  },
  {
   "cell_type": "code",
   "execution_count": 281,
   "id": "0e20b288",
   "metadata": {},
   "outputs": [
    {
     "name": "stderr",
     "output_type": "stream",
     "text": [
      "Some weights of RobertaModel were not initialized from the model checkpoint at ../checkpoint-final/ and are newly initialized: ['roberta.pooler.dense.bias', 'roberta.pooler.dense.weight']\n",
      "You should probably TRAIN this model on a down-stream task to be able to use it for predictions and inference.\n"
     ]
    }
   ],
   "source": [
    "model = model_init()"
   ]
  },
  {
   "cell_type": "code",
   "execution_count": 282,
   "id": "7cb96d56",
   "metadata": {},
   "outputs": [
    {
     "data": {
      "text/plain": [
       "CustomBERTClassifier(\n",
       "  (bert): RobertaModel(\n",
       "    (embeddings): RobertaEmbeddings(\n",
       "      (word_embeddings): Embedding(35, 768, padding_idx=1)\n",
       "      (position_embeddings): Embedding(1026, 768, padding_idx=1)\n",
       "      (token_type_embeddings): Embedding(1, 768)\n",
       "      (LayerNorm): LayerNorm((768,), eps=1e-12, elementwise_affine=True)\n",
       "      (dropout): Dropout(p=0.1, inplace=False)\n",
       "    )\n",
       "    (encoder): RobertaEncoder(\n",
       "      (layer): ModuleList(\n",
       "        (0-5): 6 x RobertaLayer(\n",
       "          (attention): RobertaAttention(\n",
       "            (self): RobertaSelfAttention(\n",
       "              (query): Linear(in_features=768, out_features=768, bias=True)\n",
       "              (key): Linear(in_features=768, out_features=768, bias=True)\n",
       "              (value): Linear(in_features=768, out_features=768, bias=True)\n",
       "              (dropout): Dropout(p=0.1, inplace=False)\n",
       "            )\n",
       "            (output): RobertaSelfOutput(\n",
       "              (dense): Linear(in_features=768, out_features=768, bias=True)\n",
       "              (LayerNorm): LayerNorm((768,), eps=1e-12, elementwise_affine=True)\n",
       "              (dropout): Dropout(p=0.1, inplace=False)\n",
       "            )\n",
       "          )\n",
       "          (intermediate): RobertaIntermediate(\n",
       "            (dense): Linear(in_features=768, out_features=3072, bias=True)\n",
       "            (intermediate_act_fn): GELUActivation()\n",
       "          )\n",
       "          (output): RobertaOutput(\n",
       "            (dense): Linear(in_features=3072, out_features=768, bias=True)\n",
       "            (LayerNorm): LayerNorm((768,), eps=1e-12, elementwise_affine=True)\n",
       "            (dropout): Dropout(p=0.1, inplace=False)\n",
       "          )\n",
       "        )\n",
       "      )\n",
       "    )\n",
       "    (pooler): RobertaPooler(\n",
       "      (dense): Linear(in_features=768, out_features=768, bias=True)\n",
       "      (activation): Tanh()\n",
       "    )\n",
       "  )\n",
       "  (dropout): Dropout(p=0.1, inplace=False)\n",
       "  (fc): Linear(in_features=768, out_features=2, bias=True)\n",
       ")"
      ]
     },
     "execution_count": 282,
     "metadata": {},
     "output_type": "execute_result"
    }
   ],
   "source": [
    "# Training loop\n",
    "device = torch.device('cuda' if torch.cuda.is_available() else 'cpu')\n",
    "model.to(device)"
   ]
  },
  {
   "cell_type": "code",
   "execution_count": 283,
   "id": "94d6330a",
   "metadata": {
    "scrolled": true
   },
   "outputs": [
    {
     "name": "stderr",
     "output_type": "stream",
     "text": [
      "/home/byw2/.conda/envs/dr-bert-env/lib/python3.9/site-packages/transformers/optimization.py:411: FutureWarning: This implementation of AdamW is deprecated and will be removed in a future version. Use the PyTorch implementation torch.optim.AdamW instead, or set `no_deprecation_warning=True` to disable this warning\n",
      "  warnings.warn(\n"
     ]
    }
   ],
   "source": [
    "# Initialize optimizer and training parameters\n",
    "optimizer = AdamW(model.parameters(), lr=LEARNING_RATE)\n",
    "num_epochs = EPOCHS\n",
    "criterion = nn.CrossEntropyLoss()\n",
    "scheduler = torch.optim.lr_scheduler.CosineAnnealingLR(optimizer, 1000)"
   ]
  },
  {
   "cell_type": "code",
   "execution_count": 284,
   "id": "2dd6596d",
   "metadata": {},
   "outputs": [],
   "source": [
    "best_val_loss = float('inf')\n",
    "best_model_path = OUTPUT_DIR + 'best_model.pth'"
   ]
  },
  {
   "cell_type": "code",
   "execution_count": 285,
   "id": "4df116b7",
   "metadata": {},
   "outputs": [
    {
     "data": {
      "text/plain": [
       "'../subset_outputs/custom_baseline/best_model.pth'"
      ]
     },
     "execution_count": 285,
     "metadata": {},
     "output_type": "execute_result"
    }
   ],
   "source": [
    "best_model_path"
   ]
  },
  {
   "cell_type": "code",
   "execution_count": 286,
   "id": "6b0a6a5e",
   "metadata": {},
   "outputs": [],
   "source": [
    "train_losses, val_losses = [], []"
   ]
  },
  {
   "cell_type": "code",
   "execution_count": 287,
   "id": "08a05c73",
   "metadata": {
    "scrolled": false
   },
   "outputs": [
    {
     "name": "stderr",
     "output_type": "stream",
     "text": [
      "Epoch 1/10:   0%|          | 0/386 [00:00<?, ?it/s]/tmp/ipykernel_3310506/4153848418.py:28: DeprecationWarning: an integer is required (got type float).  Implicit conversion to integers using __int__ is deprecated, and may be removed in a future version of Python.\n",
      "  tens = torch.tensor(self.labels[idx], dtype=torch.long)\n",
      "Epoch 1/10: 100%|██████████| 386/386 [00:12<00:00, 30.94it/s]\n"
     ]
    },
    {
     "name": "stdout",
     "output_type": "stream",
     "text": [
      "Training Loss: 0.3199656251335391\n"
     ]
    },
    {
     "name": "stderr",
     "output_type": "stream",
     "text": [
      "Validation: 100%|██████████| 3/3 [00:00<00:00,  7.52it/s]\n"
     ]
    },
    {
     "name": "stdout",
     "output_type": "stream",
     "text": [
      "Validation Loss: 0.25361258288224536\n",
      "Best model saved.\n"
     ]
    },
    {
     "name": "stderr",
     "output_type": "stream",
     "text": [
      "Epoch 2/10: 100%|██████████| 386/386 [00:12<00:00, 30.95it/s]\n"
     ]
    },
    {
     "name": "stdout",
     "output_type": "stream",
     "text": [
      "Training Loss: 0.22530013884519048\n"
     ]
    },
    {
     "name": "stderr",
     "output_type": "stream",
     "text": [
      "Validation: 100%|██████████| 3/3 [00:00<00:00,  7.60it/s]\n"
     ]
    },
    {
     "name": "stdout",
     "output_type": "stream",
     "text": [
      "Validation Loss: 0.234670619169871\n",
      "Best model saved.\n"
     ]
    },
    {
     "name": "stderr",
     "output_type": "stream",
     "text": [
      "Epoch 3/10: 100%|██████████| 386/386 [00:12<00:00, 30.94it/s]\n"
     ]
    },
    {
     "name": "stdout",
     "output_type": "stream",
     "text": [
      "Training Loss: 0.21440623960230942\n"
     ]
    },
    {
     "name": "stderr",
     "output_type": "stream",
     "text": [
      "Validation: 100%|██████████| 3/3 [00:00<00:00,  7.57it/s]\n"
     ]
    },
    {
     "name": "stdout",
     "output_type": "stream",
     "text": [
      "Validation Loss: 0.23348179956277212\n",
      "Best model saved.\n"
     ]
    },
    {
     "name": "stderr",
     "output_type": "stream",
     "text": [
      "Epoch 4/10: 100%|██████████| 386/386 [00:12<00:00, 30.95it/s]\n"
     ]
    },
    {
     "name": "stdout",
     "output_type": "stream",
     "text": [
      "Training Loss: 0.20997017436694604\n"
     ]
    },
    {
     "name": "stderr",
     "output_type": "stream",
     "text": [
      "Validation: 100%|██████████| 3/3 [00:00<00:00,  7.57it/s]\n"
     ]
    },
    {
     "name": "stdout",
     "output_type": "stream",
     "text": [
      "Validation Loss: 0.22492478291193643\n",
      "Best model saved.\n"
     ]
    },
    {
     "name": "stderr",
     "output_type": "stream",
     "text": [
      "Epoch 5/10: 100%|██████████| 386/386 [00:12<00:00, 30.95it/s]\n"
     ]
    },
    {
     "name": "stdout",
     "output_type": "stream",
     "text": [
      "Training Loss: 0.1937767312393905\n"
     ]
    },
    {
     "name": "stderr",
     "output_type": "stream",
     "text": [
      "Validation: 100%|██████████| 3/3 [00:00<00:00,  7.57it/s]\n"
     ]
    },
    {
     "name": "stdout",
     "output_type": "stream",
     "text": [
      "Validation Loss: 0.21033368508021036\n",
      "Best model saved.\n"
     ]
    },
    {
     "name": "stderr",
     "output_type": "stream",
     "text": [
      "Epoch 6/10: 100%|██████████| 386/386 [00:12<00:00, 30.87it/s]\n"
     ]
    },
    {
     "name": "stdout",
     "output_type": "stream",
     "text": [
      "Training Loss: 0.17783353374933178\n"
     ]
    },
    {
     "name": "stderr",
     "output_type": "stream",
     "text": [
      "Validation: 100%|██████████| 3/3 [00:00<00:00,  7.53it/s]\n"
     ]
    },
    {
     "name": "stdout",
     "output_type": "stream",
     "text": [
      "Validation Loss: 0.20537668466567993\n",
      "Best model saved.\n"
     ]
    },
    {
     "name": "stderr",
     "output_type": "stream",
     "text": [
      "Epoch 7/10: 100%|██████████| 386/386 [00:12<00:00, 30.81it/s]\n"
     ]
    },
    {
     "name": "stdout",
     "output_type": "stream",
     "text": [
      "Training Loss: 0.1703557892379211\n"
     ]
    },
    {
     "name": "stderr",
     "output_type": "stream",
     "text": [
      "Validation: 100%|██████████| 3/3 [00:00<00:00,  7.51it/s]\n"
     ]
    },
    {
     "name": "stdout",
     "output_type": "stream",
     "text": [
      "Validation Loss: 0.20348040262858072\n",
      "Best model saved.\n"
     ]
    },
    {
     "name": "stderr",
     "output_type": "stream",
     "text": [
      "Epoch 8/10: 100%|██████████| 386/386 [00:12<00:00, 30.74it/s]\n"
     ]
    },
    {
     "name": "stdout",
     "output_type": "stream",
     "text": [
      "Training Loss: 0.16779330016688052\n"
     ]
    },
    {
     "name": "stderr",
     "output_type": "stream",
     "text": [
      "Validation: 100%|██████████| 3/3 [00:00<00:00,  7.52it/s]\n"
     ]
    },
    {
     "name": "stdout",
     "output_type": "stream",
     "text": [
      "Validation Loss: 0.20256341000398\n",
      "Best model saved.\n"
     ]
    },
    {
     "name": "stderr",
     "output_type": "stream",
     "text": [
      "Epoch 9/10: 100%|██████████| 386/386 [00:12<00:00, 30.75it/s]\n"
     ]
    },
    {
     "name": "stdout",
     "output_type": "stream",
     "text": [
      "Training Loss: 0.16711957783587855\n"
     ]
    },
    {
     "name": "stderr",
     "output_type": "stream",
     "text": [
      "Validation: 100%|██████████| 3/3 [00:00<00:00,  7.55it/s]\n"
     ]
    },
    {
     "name": "stdout",
     "output_type": "stream",
     "text": [
      "Validation Loss: 0.20211215317249298\n",
      "Best model saved.\n"
     ]
    },
    {
     "name": "stderr",
     "output_type": "stream",
     "text": [
      "Epoch 10/10: 100%|██████████| 386/386 [00:12<00:00, 30.75it/s]\n"
     ]
    },
    {
     "name": "stdout",
     "output_type": "stream",
     "text": [
      "Training Loss: 0.16547900999515014\n"
     ]
    },
    {
     "name": "stderr",
     "output_type": "stream",
     "text": [
      "Validation: 100%|██████████| 3/3 [00:00<00:00,  7.52it/s]\n"
     ]
    },
    {
     "name": "stdout",
     "output_type": "stream",
     "text": [
      "Validation Loss: 0.20025297502676645\n",
      "Best model saved.\n"
     ]
    }
   ],
   "source": [
    "for epoch in range(num_epochs):\n",
    "    # set model in training mode\n",
    "    model.train()\n",
    "    \n",
    "    total_loss = 0\n",
    "\n",
    "    # for each epoch\n",
    "    for batch in tqdm(train_loader, desc=f'Epoch {epoch + 1}/{num_epochs}'):\n",
    "        input_ids = batch['input_ids'].to(device)\n",
    "        attention_mask = batch['attention_mask'].to(device)\n",
    "        labels = batch['labels'].to(device)\n",
    "        optimizer.zero_grad()\n",
    "        \n",
    "        outputs = model(input_ids, attention_mask=attention_mask)\n",
    "        outputs = outputs.view(-1, 2)\n",
    "        labels = labels.view(-1)\n",
    "        loss = criterion(outputs, labels)\n",
    "        total_loss += loss.item()\n",
    "        \n",
    "        loss.backward()\n",
    "        optimizer.step()\n",
    "        scheduler.step()\n",
    "        \n",
    "    average_loss = total_loss / len(train_loader)\n",
    "    train_losses.append(average_loss)\n",
    "    print(f'Training Loss: {average_loss}')\n",
    "\n",
    "    # Validation loop\n",
    "    model.eval()\n",
    "    total_val_loss = 0\n",
    "\n",
    "    with torch.no_grad():\n",
    "        for batch in tqdm(val_loader, desc='Validation'):\n",
    "            input_ids = batch['input_ids'].to(device)\n",
    "            attention_mask = batch['attention_mask'].to(device)\n",
    "            labels = batch['labels'].to(device)\n",
    "            outputs = model(input_ids, attention_mask=attention_mask)\n",
    "            preds = outputs.view(-1, 2)\n",
    "            labs = labels.view(-1)\n",
    "            val_loss = criterion(preds, labs)\n",
    "            total_val_loss += val_loss.item()\n",
    "            \n",
    "#     metrics = compute_metrics((outputs.cpu().numpy(), labels.cpu().numpy()))\n",
    "    average_val_loss = total_val_loss / len(val_loader)\n",
    "    val_losses.append(average_val_loss)\n",
    "    print(f'Validation Loss: {average_val_loss}')\n",
    "    \n",
    "    # Save the best model\n",
    "    if average_val_loss < best_val_loss:\n",
    "        best_val_loss = average_val_loss\n",
    "        torch.save(model.state_dict(), best_model_path)\n",
    "        print('Best model saved.')\n",
    "    \n"
   ]
  },
  {
   "cell_type": "code",
   "execution_count": 288,
   "id": "13361441",
   "metadata": {},
   "outputs": [
    {
     "name": "stderr",
     "output_type": "stream",
     "text": [
      "Some weights of RobertaModel were not initialized from the model checkpoint at ../checkpoint-final/ and are newly initialized: ['roberta.pooler.dense.bias', 'roberta.pooler.dense.weight']\n",
      "You should probably TRAIN this model on a down-stream task to be able to use it for predictions and inference.\n"
     ]
    },
    {
     "data": {
      "text/plain": [
       "CustomBERTClassifier(\n",
       "  (bert): RobertaModel(\n",
       "    (embeddings): RobertaEmbeddings(\n",
       "      (word_embeddings): Embedding(35, 768, padding_idx=1)\n",
       "      (position_embeddings): Embedding(1026, 768, padding_idx=1)\n",
       "      (token_type_embeddings): Embedding(1, 768)\n",
       "      (LayerNorm): LayerNorm((768,), eps=1e-12, elementwise_affine=True)\n",
       "      (dropout): Dropout(p=0.1, inplace=False)\n",
       "    )\n",
       "    (encoder): RobertaEncoder(\n",
       "      (layer): ModuleList(\n",
       "        (0-5): 6 x RobertaLayer(\n",
       "          (attention): RobertaAttention(\n",
       "            (self): RobertaSelfAttention(\n",
       "              (query): Linear(in_features=768, out_features=768, bias=True)\n",
       "              (key): Linear(in_features=768, out_features=768, bias=True)\n",
       "              (value): Linear(in_features=768, out_features=768, bias=True)\n",
       "              (dropout): Dropout(p=0.1, inplace=False)\n",
       "            )\n",
       "            (output): RobertaSelfOutput(\n",
       "              (dense): Linear(in_features=768, out_features=768, bias=True)\n",
       "              (LayerNorm): LayerNorm((768,), eps=1e-12, elementwise_affine=True)\n",
       "              (dropout): Dropout(p=0.1, inplace=False)\n",
       "            )\n",
       "          )\n",
       "          (intermediate): RobertaIntermediate(\n",
       "            (dense): Linear(in_features=768, out_features=3072, bias=True)\n",
       "            (intermediate_act_fn): GELUActivation()\n",
       "          )\n",
       "          (output): RobertaOutput(\n",
       "            (dense): Linear(in_features=3072, out_features=768, bias=True)\n",
       "            (LayerNorm): LayerNorm((768,), eps=1e-12, elementwise_affine=True)\n",
       "            (dropout): Dropout(p=0.1, inplace=False)\n",
       "          )\n",
       "        )\n",
       "      )\n",
       "    )\n",
       "    (pooler): RobertaPooler(\n",
       "      (dense): Linear(in_features=768, out_features=768, bias=True)\n",
       "      (activation): Tanh()\n",
       "    )\n",
       "  )\n",
       "  (dropout): Dropout(p=0.1, inplace=False)\n",
       "  (fc): Linear(in_features=768, out_features=2, bias=True)\n",
       ")"
      ]
     },
     "execution_count": 288,
     "metadata": {},
     "output_type": "execute_result"
    }
   ],
   "source": [
    "best_ft_model = CustomBERTClassifier(PRETRAINED_MODEL, NUM_CLASSES)\n",
    "best_ft_model.load_state_dict(torch.load(best_model_path))\n",
    "best_ft_model.to(device)"
   ]
  },
  {
   "cell_type": "code",
   "execution_count": 289,
   "id": "014d0a2e",
   "metadata": {},
   "outputs": [],
   "source": [
    "df_test = pd.read_pickle('../Datasets/subset_test.pkl')"
   ]
  },
  {
   "cell_type": "code",
   "execution_count": 290,
   "id": "f6bea838",
   "metadata": {},
   "outputs": [],
   "source": [
    "def precision_recall_f1_roc_convolve(name, logits, labels, convolution):\n",
    "    logits = [i[1] for i in logits]\n",
    "    convolved = np.convolve(np.array(logits).flatten(), np.array(convolution / np.sum(convolution).flatten()), 'same')\n",
    "    p = [(1 - i, i) for i in convolved]\n",
    "    roc = [i[1] for i in p]\n",
    "    print(len(p))\n",
    "    p = np.argmax(p, axis=-1)\n",
    "    precision, recall, f1, support = precision_recall_fscore_support(labels, p)\n",
    "    roc_auc = roc_auc_score(labels, roc)\n",
    "    mcc = matthews_corrcoef(labels, p)\n",
    "    return {\n",
    "        f'precision_{name}':precision[1],\n",
    "        f'recall_{name}':recall[1],\n",
    "        f'f1_{name}':f1[1],\n",
    "        f'roc_auc_{name}':roc_auc,\n",
    "        f'MCC_{name}':mcc,\n",
    "    }"
   ]
  },
  {
   "cell_type": "code",
   "execution_count": 291,
   "id": "4ddcd0da",
   "metadata": {},
   "outputs": [],
   "source": [
    "def compute_metrics(logits, labels):\n",
    "    logits = softmax(logits, axis=1)\n",
    "    print(logits.shape)\n",
    "    print(labels.shape)\n",
    "    l = labels\n",
    "#     l = []\n",
    "#     for j, i in enumerate(labels):\n",
    "#         l = l + list(i)\n",
    "#     print(len(l), len(logits))\n",
    "    lg2 = logits\n",
    "    print(lg2.shape)\n",
    "    metrics = {}\n",
    "    metrics.update(precision_recall_f1_roc_convolve('normal', lg2, l, [1]))\n",
    "#     metrics.update(precision_recall_f1_roc_convolve('wa5', lg2, l, [1,1,1,1,1]))\n",
    "#     metrics.update(precision_recall_f1_roc_convolve('wa9', lg2, l, [1,1,1,1,1,1,1]))\n",
    "#     metrics.update(precision_recall_f1_roc_convolve('wa15', lg2, l, [1]*15))\n",
    "#     metrics.update(precision_recall_f1_roc_convolve('linear5', lg2, l, [1,2,3,2,1]))\n",
    "#     metrics.update(precision_recall_f1_roc_convolve('linear9', lg2, l, [1,2,3,4,5,4,3,2,1]))\n",
    "#     metrics.update(precision_recall_f1_roc_convolve('linear15', lg2, l, [1,2,3,4,5,6,7,8,7,6,5,4,3,2,1]))\n",
    "#     metrics.update(precision_recall_f1_roc_convolve('quad5', lg2, l, [1,3,9,3,1]))\n",
    "#     metrics.update(precision_recall_f1_roc_convolve('quad9', lg2, l, [1,3,9,27,81,27,9,3,1]))\n",
    "#     metrics.update(precision_recall_f1_roc_convolve('quad15', lg2, l, [1,3,9,27,81,243,729,2187,729,243,81,27,9,3,1]))\n",
    "    \n",
    "    return metrics"
   ]
  },
  {
   "cell_type": "code",
   "execution_count": 292,
   "id": "f30194db",
   "metadata": {},
   "outputs": [],
   "source": [
    "def model_out(encoded, model):\n",
    "    \"\"\"Given encoding, pass through model to get logits. Returns logits.\"\"\"\n",
    "    encoded.to(device)\n",
    "    with torch.no_grad():\n",
    "        output = model(**encoded)\n",
    "    return output"
   ]
  },
  {
   "cell_type": "code",
   "execution_count": 293,
   "id": "d968cbdd",
   "metadata": {},
   "outputs": [],
   "source": [
    "def get_word_vector(sent, tokenizer, model):\n",
    "    \"\"\"Returns logits.\"\"\"\n",
    "    encoded = tokenizer.encode_plus(sent, return_tensors=\"pt\", truncation=True, max_length=1024)\n",
    "    out = model_out(encoded, model)\n",
    "    return out"
   ]
  },
  {
   "cell_type": "code",
   "execution_count": 294,
   "id": "5459fdd7",
   "metadata": {},
   "outputs": [],
   "source": [
    "Xs = []\n",
    "labs = []\n",
    "for index, row in df_test.iterrows():\n",
    "    seq = row['Sequence']\n",
    "    lab = list(row['full'])\n",
    "    word_embedding = get_word_vector(seq[:min(1024, len(seq))], tokenizer, best_ft_model)\n",
    "    word_embedding = word_embedding[0]\n",
    "    word_embedding = word_embedding[1:-1]\n",
    "    word_embedding = word_embedding.cpu()\n",
    "    word_embedding_full = np.squeeze(word_embedding.numpy())\n",
    "#     print(word_embedding.shape)\n",
    "    if len(seq) > 2044:\n",
    "        for i in range(1022, len(seq) - 1022, 1022):\n",
    "            word_embedding = get_word_vector(seq[i:i+1022], tokenizer, best_ft_model)\n",
    "            word_embedding = word_embedding[0]\n",
    "            word_embedding = word_embedding[1:-1]\n",
    "            word_embedding = word_embedding.cpu()\n",
    "            word_embedding = np.squeeze(word_embedding.numpy())\n",
    "            word_embedding_full = np.concatenate([word_embedding_full, word_embedding], axis=0)\n",
    "    if len(seq) > 1024:\n",
    "        word_embedding = get_word_vector(seq[len(seq) - 1022:len(seq)], tokenizer, best_ft_model)\n",
    "        word_embedding = word_embedding[0]\n",
    "        word_embedding = word_embedding[1:-1]\n",
    "        word_embedding = word_embedding.cpu()\n",
    "        word_embedding = np.squeeze(word_embedding.numpy())\n",
    "        overlap_amount = 1022 - (len(seq) % 1022)\n",
    "        overlap = word_embedding_full[(-1 * overlap_amount):]\n",
    "        word_embedding_full[(-1 * overlap_amount):] = (overlap + word_embedding[:overlap_amount]) / 2\n",
    "        end_chunk = word_embedding[overlap_amount:]\n",
    "        word_embedding_full = np.concatenate([word_embedding_full, end_chunk], axis=0)\n",
    "#     print(word_embedding_full.shape, len(seq))\n",
    "    Xs.append(word_embedding_full)\n",
    "    labs.append(lab[:len(seq)])"
   ]
  },
  {
   "cell_type": "code",
   "execution_count": 295,
   "id": "607f6367",
   "metadata": {},
   "outputs": [],
   "source": [
    "Xs = np.concatenate(Xs)\n",
    "labs = np.concatenate(labs)"
   ]
  },
  {
   "cell_type": "code",
   "execution_count": 296,
   "id": "f235a2a9",
   "metadata": {},
   "outputs": [
    {
     "data": {
      "text/plain": [
       "(22980,)"
      ]
     },
     "execution_count": 296,
     "metadata": {},
     "output_type": "execute_result"
    }
   ],
   "source": [
    "labs.shape"
   ]
  },
  {
   "cell_type": "code",
   "execution_count": 297,
   "id": "f1fd5977",
   "metadata": {},
   "outputs": [
    {
     "data": {
      "text/plain": [
       "(22980, 2)"
      ]
     },
     "execution_count": 297,
     "metadata": {},
     "output_type": "execute_result"
    }
   ],
   "source": [
    "Xs.shape"
   ]
  },
  {
   "cell_type": "code",
   "execution_count": 298,
   "id": "d5cad153",
   "metadata": {},
   "outputs": [
    {
     "name": "stdout",
     "output_type": "stream",
     "text": [
      "(22980, 2)\n",
      "(22980,)\n",
      "(22980, 2)\n",
      "22980\n"
     ]
    }
   ],
   "source": [
    "metrics = compute_metrics(Xs, labs)"
   ]
  },
  {
   "cell_type": "code",
   "execution_count": 299,
   "id": "a2493cbb",
   "metadata": {},
   "outputs": [
    {
     "data": {
      "text/plain": [
       "{'precision_normal': 0.4345718901453958,\n",
       " 'recall_normal': 0.21734446539186641,\n",
       " 'f1_normal': 0.28976660682226213,\n",
       " 'roc_auc_normal': 0.7753798237871533,\n",
       " 'MCC_normal': 0.21992059569829922}"
      ]
     },
     "execution_count": 299,
     "metadata": {},
     "output_type": "execute_result"
    }
   ],
   "source": [
    "metrics"
   ]
  },
  {
   "cell_type": "code",
   "execution_count": 300,
   "id": "4eb893ee",
   "metadata": {},
   "outputs": [
    {
     "data": {
      "image/png": "[encoded data removed]",
      "text/plain": [
       "<Figure size 640x480 with 1 Axes>"
      ]
     },
     "metadata": {},
     "output_type": "display_data"
    }
   ],
   "source": [
    "plt.plot(list(range(1, 11)), train_losses)\n",
    "plt.plot(list(range(1, 11)), val_losses)\n",
    "plt.ylabel('Loss')\n",
    "plt.xlabel('Epoch')\n",
    "plt.show()"
   ]
  },
  {
   "cell_type": "code",
   "execution_count": 301,
   "id": "141b74d8",
   "metadata": {},
   "outputs": [
    {
     "data": {
      "text/plain": [
       "'../subset_outputs/custom_baseline/'"
      ]
     },
     "execution_count": 301,
     "metadata": {},
     "output_type": "execute_result"
    }
   ],
   "source": [
    "OUTPUT_DIR"
   ]
  },
  {
   "cell_type": "code",
   "execution_count": 302,
   "id": "71378dc9",
   "metadata": {},
   "outputs": [],
   "source": [
    "losses = {\n",
    "    'train': train_losses,\n",
    "    'val': val_losses\n",
    "}"
   ]
  },
  {
   "cell_type": "code",
   "execution_count": 303,
   "id": "dbdd7743",
   "metadata": {},
   "outputs": [],
   "source": [
    "with open(f'{OUTPUT_DIR}losses.pkl', 'wb') as f:\n",
    "    pickle.dump(losses, f)"
   ]
  },
  {
   "cell_type": "code",
   "execution_count": 304,
   "id": "d3f78c1f",
   "metadata": {},
   "outputs": [],
   "source": [
    "# # Load data (deserialize)\n",
    "# with open(f'{OUTPUT_DIR}losses.pkl', 'rb') as f:\n",
    "#     tmp = pickle.load(f)"
   ]
  },
  {
   "cell_type": "code",
   "execution_count": null,
   "id": "04aede1b",
   "metadata": {},
   "outputs": [],
   "source": []
  }
 ],
 "metadata": {
  "kernelspec": {
   "display_name": "dr-bert-env [~/.conda/envs/dr-bert-env/]",
   "language": "python",
   "name": "conda_dr-bert-env"
  },
  "language_info": {
   "codemirror_mode": {
    "name": "ipython",
    "version": 3
   },
   "file_extension": ".py",
   "mimetype": "text/x-python",
   "name": "python",
   "nbconvert_exporter": "python",
   "pygments_lexer": "ipython3",
   "version": "3.9.0"
  }
 },
 "nbformat": 4,
 "nbformat_minor": 5
}
