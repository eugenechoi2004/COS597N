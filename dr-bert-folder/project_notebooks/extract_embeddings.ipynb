{
 "cells": [
  {
   "cell_type": "code",
   "execution_count": 29,
   "id": "3e29b03a",
   "metadata": {},
   "outputs": [],
   "source": [
    "# task: return the learned embeddings for each token\n",
    "from transformers import pipeline\n",
    "from transformers import RobertaTokenizerFast\n",
    "import torch"
   ]
  },
  {
   "cell_type": "code",
   "execution_count": 5,
   "id": "338b876a",
   "metadata": {},
   "outputs": [],
   "source": [
    "from transformers import AutoTokenizer, AutoModelForTokenClassification"
   ]
  },
  {
   "cell_type": "code",
   "execution_count": 13,
   "id": "a88c30a4",
   "metadata": {
    "scrolled": true
   },
   "outputs": [
    {
     "name": "stderr",
     "output_type": "stream",
     "text": [
      "Special tokens have been added in the vocabulary, make sure the associated word embeddings are fine-tuned or trained.\n",
      "Special tokens have been added in the vocabulary, make sure the associated word embeddings are fine-tuned or trained.\n"
     ]
    }
   ],
   "source": [
    "PRETRAINED_MODEL = \"../checkpoint-final/\"\n",
    "NUM_CLASSES = 2\n",
    "TOKENIZER_PATH =  \"../checkpoint-final/\"\n",
    "model = AutoModelForTokenClassification.from_pretrained(PRETRAINED_MODEL, num_labels=NUM_CLASSES)\n",
    "tokenizer = RobertaTokenizerFast.from_pretrained(TOKENIZER_PATH, do_lower_case=False)\n",
    "# model_pipeline = pipeline('feature-extraction', model=model, tokenizer=tokenizer)\n",
    "# data = model_pipeline('AVA')"
   ]
  },
  {
   "cell_type": "code",
   "execution_count": 18,
   "id": "a0089927",
   "metadata": {},
   "outputs": [
    {
     "name": "stdout",
     "output_type": "stream",
     "text": [
      "VSHQPPEDGL\n"
     ]
    }
   ],
   "source": [
    "import random\n",
    "\n",
    "# Define the 20 standard amino acids\n",
    "amino_acids = \"ACDEFGHIKLMNPQRSTVWY\"\n",
    "\n",
    "# Generate a random amino acid sequence of length 10\n",
    "random_sequence = ''.join(random.choice(amino_acids) for _ in range(10))\n",
    "\n",
    "print(random_sequence)"
   ]
  },
  {
   "cell_type": "code",
   "execution_count": 19,
   "id": "58d3191d",
   "metadata": {},
   "outputs": [
    {
     "name": "stdout",
     "output_type": "stream",
     "text": [
      "['V', 'S', 'H', 'Q', 'P', 'P', 'E', 'D', 'G', 'L']\n"
     ]
    }
   ],
   "source": [
    "##how the words are broken into tokens\n",
    "print(tokenizer.tokenize(random_sequence))"
   ]
  },
  {
   "cell_type": "code",
   "execution_count": 20,
   "id": "aa32c111",
   "metadata": {},
   "outputs": [
    {
     "name": "stdout",
     "output_type": "stream",
     "text": [
      "{'input_ids': [[4, 8, 10, 22, 18, 16, 16, 9, 14, 7, 5, 0]], 'attention_mask': [[1, 1, 1, 1, 1, 1, 1, 1, 1, 1, 1, 1]]}\n"
     ]
    }
   ],
   "source": [
    "##the format of a encoding\n",
    "print(tokenizer.batch_encode_plus([random_sequence]))"
   ]
  },
  {
   "cell_type": "code",
   "execution_count": 22,
   "id": "43767e19",
   "metadata": {},
   "outputs": [
    {
     "name": "stdout",
     "output_type": "stream",
     "text": [
      "[[4, 8, 10, 22, 18, 16, 16, 9, 14, 7, 5, 0]]\n"
     ]
    }
   ],
   "source": [
    "print(tokenizer.batch_encode_plus([random_sequence])['input_ids'])"
   ]
  },
  {
   "cell_type": "code",
   "execution_count": 23,
   "id": "5b142815",
   "metadata": {},
   "outputs": [
    {
     "data": {
      "text/plain": [
       "['<s>', '</s>', '[UNK]', '[SEP]', '[PAD]', '[CLS]', '[MASK]']"
      ]
     },
     "execution_count": 23,
     "metadata": {},
     "output_type": "execute_result"
    }
   ],
   "source": [
    "tokenizer.all_special_tokens"
   ]
  },
  {
   "cell_type": "code",
   "execution_count": 24,
   "id": "bfa40368",
   "metadata": {},
   "outputs": [
    {
     "data": {
      "text/plain": [
       "<bound method SpecialTokensMixin.add_tokens of RobertaTokenizerFast(name_or_path='../checkpoint-final/', vocab_size=30, model_max_length=1000000000000000019884624838656, is_fast=True, padding_side='right', truncation_side='right', special_tokens={'bos_token': AddedToken(\"<s>\", rstrip=False, lstrip=False, single_word=False, normalized=True), 'eos_token': AddedToken(\"</s>\", rstrip=False, lstrip=False, single_word=False, normalized=True), 'unk_token': '[UNK]', 'sep_token': '[SEP]', 'pad_token': '[PAD]', 'cls_token': '[CLS]', 'mask_token': AddedToken(\"[MASK]\", rstrip=False, lstrip=True, single_word=False, normalized=False)}, clean_up_tokenization_spaces=True)>"
      ]
     },
     "execution_count": 24,
     "metadata": {},
     "output_type": "execute_result"
    }
   ],
   "source": [
    "tokenizer."
   ]
  },
  {
   "cell_type": "code",
   "execution_count": 74,
   "id": "499ec8ef",
   "metadata": {},
   "outputs": [],
   "source": [
    "random_sequence = 'VSHQPPEDGL'"
   ]
  },
  {
   "cell_type": "code",
   "execution_count": 63,
   "id": "3e00a58a",
   "metadata": {},
   "outputs": [],
   "source": [
    "input_ids = tokenizer.encode(random_sequence, return_tensors=\"pt\")"
   ]
  },
  {
   "cell_type": "code",
   "execution_count": 64,
   "id": "7bd6613f",
   "metadata": {},
   "outputs": [
    {
     "data": {
      "text/plain": [
       "tensor([[4, 6, 6, 6, 6, 6, 6, 6, 6, 6, 6, 6, 0]])"
      ]
     },
     "execution_count": 64,
     "metadata": {},
     "output_type": "execute_result"
    }
   ],
   "source": [
    "input_ids"
   ]
  },
  {
   "cell_type": "code",
   "execution_count": 65,
   "id": "300213ce",
   "metadata": {},
   "outputs": [],
   "source": [
    "# Get token embeddings\n",
    "with torch.no_grad():\n",
    "    outputs = model(input_ids, output_hidden_states=True)\n",
    "    embeddings = outputs.hidden_states"
   ]
  },
  {
   "cell_type": "code",
   "execution_count": 67,
   "id": "f45b949f",
   "metadata": {},
   "outputs": [
    {
     "data": {
      "text/plain": [
       "torch.Size([1, 13, 768])"
      ]
     },
     "execution_count": 67,
     "metadata": {},
     "output_type": "execute_result"
    }
   ],
   "source": [
    "embeddings[-1].shape"
   ]
  },
  {
   "cell_type": "code",
   "execution_count": 72,
   "id": "539f3eca",
   "metadata": {},
   "outputs": [
    {
     "data": {
      "text/plain": [
       "tensor([ 0.1838,  0.4129, -0.2674,  0.3793,  0.1303,  0.3081, -0.2605, -0.5416,\n",
       "        -0.3524, -1.4826])"
      ]
     },
     "execution_count": 72,
     "metadata": {},
     "output_type": "execute_result"
    }
   ],
   "source": [
    "embeddings[-1][0][1][:10]"
   ]
  },
  {
   "cell_type": "code",
   "execution_count": 73,
   "id": "b53cf6c8",
   "metadata": {},
   "outputs": [
    {
     "data": {
      "text/plain": [
       "tensor([-0.4745,  0.2408, -0.4009, -0.2871, -0.0784,  0.0486, -0.1656, -0.4000,\n",
       "         0.2476, -1.2927])"
      ]
     },
     "execution_count": 73,
     "metadata": {},
     "output_type": "execute_result"
    }
   ],
   "source": [
    "embeddings[-1][0][2][:10]"
   ]
  },
  {
   "cell_type": "code",
   "execution_count": null,
   "id": "aab60cda",
   "metadata": {},
   "outputs": [],
   "source": []
  }
 ],
 "metadata": {
  "kernelspec": {
   "display_name": "dr-bert-env [~/.conda/envs/dr-bert-env/]",
   "language": "python",
   "name": "conda_dr-bert-env"
  },
  "language_info": {
   "codemirror_mode": {
    "name": "ipython",
    "version": 3
   },
   "file_extension": ".py",
   "mimetype": "text/x-python",
   "name": "python",
   "nbconvert_exporter": "python",
   "pygments_lexer": "ipython3",
   "version": "3.9.0"
  }
 },
 "nbformat": 4,
 "nbformat_minor": 5
}
